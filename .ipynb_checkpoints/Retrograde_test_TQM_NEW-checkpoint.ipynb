{
 "cells": [
  {
   "cell_type": "code",
   "execution_count": 1,
   "metadata": {},
   "outputs": [],
   "source": [
    "exec(open(\"functions_i_main.py\").read())"
   ]
  },
  {
   "cell_type": "code",
   "execution_count": 2,
   "metadata": {},
   "outputs": [
    {
     "name": "stdout",
     "output_type": "stream",
     "text": [
      "condition1 = True condition2 = False condition3 = False\n",
      "final a = 9848.60822206343\n",
      "final i = 0.030463300589532796\n",
      "number of passes through disk (n) = 8274\n",
      "grind time = 287876.220982276 years\n",
      "Processing time = 0.0 [hr]  0.0 [min]  6.91157078742981 [sec]\n"
     ]
    },
    {
     "data": {
      "text/plain": [
       "287876.220982276"
      ]
     },
     "execution_count": 2,
     "metadata": {},
     "output_type": "execute_result"
    }
   ],
   "source": [
    "Tcapture(5,1e4,'r_giant', 1,'TQM','1e4_5_rgiant_TQM')"
   ]
  },
  {
   "cell_type": "code",
   "execution_count": 3,
   "metadata": {},
   "outputs": [
    {
     "name": "stdout",
     "output_type": "stream",
     "text": [
      "condition1 = True condition2 = False condition3 = False\n",
      "final a = 9848.60822206343\n",
      "final i = 0.030463300589532796\n",
      "number of passes through disk (n) = 8274\n",
      "grind time = 287876.220982276 years\n",
      "Processing time = 0.0 [hr]  0.0 [min]  6.904630899429321 [sec]\n"
     ]
    },
    {
     "data": {
      "text/plain": [
       "287876.220982276"
      ]
     },
     "execution_count": 3,
     "metadata": {},
     "output_type": "execute_result"
    }
   ],
   "source": [
    "Tcapture(5,1e4,'r_giant', 1,'TQM','1e4_5_rgiant_TQM')"
   ]
  },
  {
   "cell_type": "code",
   "execution_count": 4,
   "metadata": {},
   "outputs": [
    {
     "name": "stdout",
     "output_type": "stream",
     "text": [
      "condition1 = True condition2 = False condition3 = False\n",
      "final a = 8705.773843220359\n",
      "final i = 0.029029346509109436\n",
      "number of passes through disk (n) = 9160\n",
      "grind time = 269309.4556744825 years\n",
      "Processing time = 0.0 [hr]  0.0 [min]  7.521005630493164 [sec]\n"
     ]
    },
    {
     "data": {
      "text/plain": [
       "269309.4556744825"
      ]
     },
     "execution_count": 4,
     "metadata": {},
     "output_type": "execute_result"
    }
   ],
   "source": [
    "Tcapture(15,1e4,'r_giant', 1,'TQM','1e4_15_rgiant_TQM')"
   ]
  },
  {
   "cell_type": "code",
   "execution_count": 5,
   "metadata": {},
   "outputs": [
    {
     "name": "stdout",
     "output_type": "stream",
     "text": [
      "condition1 = True condition2 = False condition3 = False\n",
      "final a = 5663.215005721575\n",
      "final i = 0.02618719353548119\n",
      "number of passes through disk (n) = 7961\n",
      "grind time = 132400.77463103522 years\n",
      "Processing time = 0.0 [hr]  0.0 [min]  6.6942949295043945 [sec]\n"
     ]
    },
    {
     "data": {
      "text/plain": [
       "132400.77463103522"
      ]
     },
     "execution_count": 5,
     "metadata": {},
     "output_type": "execute_result"
    }
   ],
   "source": [
    "Tcapture(30,1e4,'r_giant', 1,'TQM','1e4_30_rgiant_TQM')"
   ]
  },
  {
   "cell_type": "code",
   "execution_count": 6,
   "metadata": {},
   "outputs": [
    {
     "name": "stdout",
     "output_type": "stream",
     "text": [
      "condition1 = True condition2 = False condition3 = False\n",
      "final a = 2686.499266307692\n",
      "final i = 0.5633285272725254\n",
      "number of passes through disk (n) = 61775\n",
      "grind time = 353657.37548778235 years\n",
      "Processing time = 0.0 [hr]  0.0 [min]  52.03360390663147 [sec]\n"
     ]
    },
    {
     "data": {
      "text/plain": [
       "353657.37548778235"
      ]
     },
     "execution_count": 6,
     "metadata": {},
     "output_type": "execute_result"
    }
   ],
   "source": [
    "Tcapture(45,1e4,'r_giant', 1,'TQM','1e4_45_rgiant_TQM')"
   ]
  },
  {
   "cell_type": "code",
   "execution_count": 7,
   "metadata": {},
   "outputs": [
    {
     "name": "stdout",
     "output_type": "stream",
     "text": [
      "condition1 = True condition2 = False condition3 = False\n",
      "final a = 942.758269964869\n",
      "final i = 1.5638102292636538\n",
      "number of passes through disk (n) = 86385\n",
      "grind time = 149529.39971106887 years\n",
      "Processing time = 0.0 [hr]  1.0 [min]  12.350018978118896 [sec]\n"
     ]
    },
    {
     "data": {
      "text/plain": [
       "149529.39971106887"
      ]
     },
     "execution_count": 7,
     "metadata": {},
     "output_type": "execute_result"
    }
   ],
   "source": [
    "Tcapture(60,1e4,'r_giant', 1,'TQM','1e4_60_rgiant_TQM')"
   ]
  },
  {
   "cell_type": "code",
   "execution_count": 8,
   "metadata": {},
   "outputs": [
    {
     "name": "stdout",
     "output_type": "stream",
     "text": [
      "condition1 = True condition2 = False condition3 = False\n",
      "final a = 191.93170008743033\n",
      "final i = 8.290319976501385\n",
      "number of passes through disk (n) = 104174\n",
      "grind time = 58993.45361174038 years\n",
      "Processing time = 0.0 [hr]  1.0 [min]  26.381253004074097 [sec]\n"
     ]
    },
    {
     "data": {
      "text/plain": [
       "58993.45361174038"
      ]
     },
     "execution_count": 8,
     "metadata": {},
     "output_type": "execute_result"
    }
   ],
   "source": [
    "Tcapture(80,1e4,'r_giant', 1,'TQM','1e4_80_rgiant_TQM')"
   ]
  },
  {
   "cell_type": "code",
   "execution_count": 9,
   "metadata": {},
   "outputs": [
    {
     "name": "stdout",
     "output_type": "stream",
     "text": [
      "condition1 = True condition2 = False condition3 = False\n",
      "final a = 99.73892726448152\n",
      "final i = 15.072897615724697\n",
      "number of passes through disk (n) = 103658\n",
      "grind time = 48034.290721037796 years\n",
      "Processing time = 0.0 [hr]  1.0 [min]  25.887588262557983 [sec]\n"
     ]
    },
    {
     "data": {
      "text/plain": [
       "48034.290721037796"
      ]
     },
     "execution_count": 9,
     "metadata": {},
     "output_type": "execute_result"
    }
   ],
   "source": [
    "Tcapture(90,1e4,'r_giant', 1,'TQM','1e4_90_rgiant_TQM')"
   ]
  },
  {
   "cell_type": "code",
   "execution_count": 10,
   "metadata": {},
   "outputs": [
    {
     "name": "stdout",
     "output_type": "stream",
     "text": [
      "condition1 = True condition2 = False condition3 = False\n",
      "final a = 61.40959489974194\n",
      "final i = 21.64568641249561\n",
      "number of passes through disk (n) = 104106\n",
      "grind time = 43633.0902736128 years\n",
      "Processing time = 0.0 [hr]  1.0 [min]  27.611721992492676 [sec]\n"
     ]
    },
    {
     "data": {
      "text/plain": [
       "43633.0902736128"
      ]
     },
     "execution_count": 10,
     "metadata": {},
     "output_type": "execute_result"
    }
   ],
   "source": [
    "Tcapture(100,1e4,'r_giant', 1,'TQM','1e4_100_rgiant_TQM')"
   ]
  },
  {
   "cell_type": "code",
   "execution_count": 11,
   "metadata": {},
   "outputs": [
    {
     "name": "stdout",
     "output_type": "stream",
     "text": [
      "condition1 = False condition2 = True condition3 = True\n",
      "final a = 59.60268031933621\n",
      "final i = 45.40075562178815\n",
      "number of passes through disk (n) = 62289\n",
      "grind time = 39090.93093412333 years\n",
      "Processing time = 0.0 [hr]  0.0 [min]  53.435388803482056 [sec]\n"
     ]
    },
    {
     "data": {
      "text/plain": [
       "39090.93093412333"
      ]
     },
     "execution_count": 11,
     "metadata": {},
     "output_type": "execute_result"
    }
   ],
   "source": [
    "Tcapture(120,1e4,'r_giant', 1,'TQM','1e4_120_rgiant_TQM')"
   ]
  },
  {
   "cell_type": "code",
   "execution_count": 12,
   "metadata": {},
   "outputs": [
    {
     "name": "stdout",
     "output_type": "stream",
     "text": [
      "condition1 = False condition2 = True condition3 = True\n",
      "final a = 59.60281228199409\n",
      "final i = 60.2883453528221\n",
      "number of passes through disk (n) = 50754\n",
      "grind time = 30381.213192570904 years\n",
      "Processing time = 0.0 [hr]  0.0 [min]  41.87743163108826 [sec]\n"
     ]
    },
    {
     "data": {
      "text/plain": [
       "30381.213192570904"
      ]
     },
     "execution_count": 12,
     "metadata": {},
     "output_type": "execute_result"
    }
   ],
   "source": [
    "Tcapture(135,1e4,'r_giant', 1,'TQM','1e4_135_rgiant_TQM')"
   ]
  },
  {
   "cell_type": "code",
   "execution_count": 13,
   "metadata": {},
   "outputs": [
    {
     "name": "stdout",
     "output_type": "stream",
     "text": [
      "condition1 = False condition2 = True condition3 = True\n",
      "final a = 59.60199247697961\n",
      "final i = 80.22949605818789\n",
      "number of passes through disk (n) = 40620\n",
      "grind time = 14686.262585052225 years\n",
      "Processing time = 0.0 [hr]  0.0 [min]  34.84629821777344 [sec]\n"
     ]
    },
    {
     "data": {
      "text/plain": [
       "14686.262585052225"
      ]
     },
     "execution_count": 13,
     "metadata": {},
     "output_type": "execute_result"
    }
   ],
   "source": [
    "Tcapture(150,1e4,'r_giant', 1,'TQM','1e4_150_rgiant_TQM')"
   ]
  },
  {
   "cell_type": "code",
   "execution_count": 14,
   "metadata": {},
   "outputs": [
    {
     "name": "stdout",
     "output_type": "stream",
     "text": [
      "condition1 = False condition2 = True condition3 = True\n",
      "final a = 59.59962737670236\n",
      "final i = 126.9922134467133\n",
      "number of passes through disk (n) = 12476\n",
      "grind time = 4517.177095671527 years\n",
      "Processing time = 0.0 [hr]  0.0 [min]  11.291368961334229 [sec]\n"
     ]
    },
    {
     "data": {
      "text/plain": [
       "4517.177095671527"
      ]
     },
     "execution_count": 14,
     "metadata": {},
     "output_type": "execute_result"
    }
   ],
   "source": [
    "Tcapture(165,1e4,'r_giant', 1,'TQM','1e4_165_rgiant_TQM')"
   ]
  },
  {
   "cell_type": "code",
   "execution_count": 15,
   "metadata": {
    "collapsed": true
   },
   "outputs": [
    {
     "name": "stderr",
     "output_type": "stream",
     "text": [
      "<string>:280: RuntimeWarning: invalid value encountered in arcsin\n"
     ]
    },
    {
     "ename": "UnboundLocalError",
     "evalue": "local variable 'y' referenced before assignment",
     "output_type": "error",
     "traceback": [
      "\u001b[0;31m---------------------------------------------------------------------------\u001b[0m",
      "\u001b[0;31mUnboundLocalError\u001b[0m                         Traceback (most recent call last)",
      "\u001b[0;32m<ipython-input-15-fce663d4be1d>\u001b[0m in \u001b[0;36m<module>\u001b[0;34m\u001b[0m\n\u001b[0;32m----> 1\u001b[0;31m \u001b[0mTcapture\u001b[0m\u001b[0;34m(\u001b[0m\u001b[0;36m175\u001b[0m\u001b[0;34m,\u001b[0m\u001b[0;36m1e4\u001b[0m\u001b[0;34m,\u001b[0m\u001b[0;34m'r_giant'\u001b[0m\u001b[0;34m,\u001b[0m \u001b[0;36m1\u001b[0m\u001b[0;34m,\u001b[0m\u001b[0;34m'TQM'\u001b[0m\u001b[0;34m,\u001b[0m\u001b[0;34m'1e4_175_rgiant_TQM'\u001b[0m\u001b[0;34m)\u001b[0m\u001b[0;34m\u001b[0m\u001b[0;34m\u001b[0m\u001b[0m\n\u001b[0m",
      "\u001b[0;32m<string>\u001b[0m in \u001b[0;36mTcapture\u001b[0;34m(deg, radius, star, intermediate, disk, name)\u001b[0m\n",
      "\u001b[0;32m<string>\u001b[0m in \u001b[0;36mimin\u001b[0;34m(am, hint)\u001b[0m\n",
      "\u001b[0;32m<string>\u001b[0m in \u001b[0;36mhint_TQM\u001b[0;34m(am)\u001b[0m\n",
      "\u001b[0;31mUnboundLocalError\u001b[0m: local variable 'y' referenced before assignment"
     ]
    }
   ],
   "source": [
    "Tcapture(175,1e4,'r_giant', 1,'TQM','1e4_175_rgiant_TQM')"
   ]
  },
  {
   "cell_type": "code",
   "execution_count": 23,
   "metadata": {},
   "outputs": [
    {
     "name": "stdout",
     "output_type": "stream",
     "text": [
      "condition1 = False condition2 = True condition3 = True\n",
      "final a = 59.597757386540536\n",
      "final i = 145.5293914462794\n",
      "number of passes through disk (n) = 6151\n",
      "grind time = 2724.198593649532 years\n",
      "Processing time = 0.0 [hr]  0.0 [min]  5.064586162567139 [sec]\n"
     ]
    },
    {
     "data": {
      "text/plain": [
       "2724.198593649532"
      ]
     },
     "execution_count": 23,
     "metadata": {},
     "output_type": "execute_result"
    }
   ],
   "source": [
    "Tcapture(170,1e4,'r_giant', 1,'TQM','1e4_170_rgiant_TQM')"
   ]
  },
  {
   "cell_type": "code",
   "execution_count": 25,
   "metadata": {},
   "outputs": [
    {
     "name": "stdout",
     "output_type": "stream",
     "text": [
      "condition1 = False condition2 = True condition3 = True\n",
      "final a = 59.59449637219283\n",
      "final i = 155.71232645326162\n",
      "number of passes through disk (n) = 3768\n",
      "grind time = 1852.7268906704576 years\n",
      "Processing time = 0.0 [hr]  0.0 [min]  3.0431578159332275 [sec]\n"
     ]
    },
    {
     "data": {
      "text/plain": [
       "1852.7268906704576"
      ]
     },
     "execution_count": 25,
     "metadata": {},
     "output_type": "execute_result"
    }
   ],
   "source": [
    "Tcapture(173,1e4,'r_giant', 1,'TQM','1e4_173_rgiant_TQM')"
   ]
  },
  {
   "cell_type": "code",
   "execution_count": 26,
   "metadata": {},
   "outputs": [
    {
     "name": "stdout",
     "output_type": "stream",
     "text": [
      "condition1 = True condition2 = False condition3 = False\n",
      "final a = 9848.60822206343\n",
      "final i = 0.030463300589532796\n",
      "number of passes through disk (n) = 8274\n",
      "grind time = 287876.220982276 years\n",
      "Processing time = 0.0 [hr]  0.0 [min]  6.7996909618377686 [sec]\n"
     ]
    },
    {
     "data": {
      "text/plain": [
       "287876.220982276"
      ]
     },
     "execution_count": 26,
     "metadata": {},
     "output_type": "execute_result"
    }
   ],
   "source": [
    "Tcapture(5,1e4,'r_giant', 1,'TQM','1e4_5_rgiant_TQM')"
   ]
  },
  {
   "cell_type": "code",
   "execution_count": 27,
   "metadata": {},
   "outputs": [
    {
     "name": "stdout",
     "output_type": "stream",
     "text": [
      "condition1 = True condition2 = False condition3 = False\n",
      "final a = 9848.60822206343\n",
      "final i = -0.030463300589532796\n",
      "number of passes through disk (n) = 8274\n",
      "grind time = 287876.220982276 years\n",
      "Processing time = 0.0 [hr]  0.0 [min]  6.69849705696106 [sec]\n"
     ]
    },
    {
     "data": {
      "text/plain": [
       "287876.220982276"
      ]
     },
     "execution_count": 27,
     "metadata": {},
     "output_type": "execute_result"
    }
   ],
   "source": [
    "Tcapture(-5,1e4,'r_giant', 1,'TQM','1e4_n5_rgiant_TQM')"
   ]
  },
  {
   "cell_type": "code",
   "execution_count": 29,
   "metadata": {},
   "outputs": [
    {
     "name": "stdout",
     "output_type": "stream",
     "text": [
      "condition1 = False condition2 = True condition3 = True\n",
      "final a = 59.59449637219283\n",
      "final i = -155.71232645326162\n",
      "number of passes through disk (n) = 3768\n",
      "grind time = 1852.7268906704576 years\n",
      "Processing time = 0.0 [hr]  0.0 [min]  2.9901628494262695 [sec]\n"
     ]
    },
    {
     "data": {
      "text/plain": [
       "1852.7268906704576"
      ]
     },
     "execution_count": 29,
     "metadata": {},
     "output_type": "execute_result"
    }
   ],
   "source": [
    "Tcapture(-173,1e4,'r_giant', 1,'TQM','1e4_n173_rgiant_TQM')"
   ]
  },
  {
   "cell_type": "code",
   "execution_count": 30,
   "metadata": {},
   "outputs": [
    {
     "name": "stdout",
     "output_type": "stream",
     "text": [
      "condition1 = True condition2 = False condition3 = False\n",
      "final a = 9705.070319623748\n",
      "final i = 0.030292911750893655\n",
      "number of passes through disk (n) = 8720\n",
      "grind time = 297377.8016247751 years\n",
      "Processing time = 0.0 [hr]  0.0 [min]  6.8384552001953125 [sec]\n"
     ]
    },
    {
     "data": {
      "text/plain": [
       "297377.8016247751"
      ]
     },
     "execution_count": 30,
     "metadata": {},
     "output_type": "execute_result"
    }
   ],
   "source": [
    "Tcapture(7,1e4,'r_giant', 1,'TQM','1e4_7_rgiant_TQM')"
   ]
  },
  {
   "cell_type": "code",
   "execution_count": null,
   "metadata": {},
   "outputs": [],
   "source": []
  },
  {
   "cell_type": "code",
   "execution_count": null,
   "metadata": {},
   "outputs": [],
   "source": []
  },
  {
   "cell_type": "code",
   "execution_count": 18,
   "metadata": {},
   "outputs": [
    {
     "name": "stdout",
     "output_type": "stream",
     "text": [
      "condition1 = False condition2 = True condition3 = True\n",
      "final a = 59.59887215012262\n",
      "final i = 128.3455728907246\n",
      "number of passes through disk (n) = 4686\n",
      "grind time = 111.86719170254959 years\n",
      "Processing time = 0.0 [hr]  0.0 [min]  3.8959670066833496 [sec]\n"
     ]
    },
    {
     "data": {
      "text/plain": [
       "111.86719170254959"
      ]
     },
     "execution_count": 18,
     "metadata": {},
     "output_type": "execute_result"
    }
   ],
   "source": [
    "Tcapture(135,1e2,'r_giant', 1,'TQM','1e2_135_rgiant_TQM')"
   ]
  },
  {
   "cell_type": "code",
   "execution_count": 19,
   "metadata": {},
   "outputs": [
    {
     "name": "stdout",
     "output_type": "stream",
     "text": [
      "condition1 = False condition2 = True condition3 = True\n",
      "final a = 59.60324390376809\n",
      "final i = 89.18853873925185\n",
      "number of passes through disk (n) = 33985\n",
      "grind time = 4038.7043250446445 years\n",
      "Processing time = 0.0 [hr]  0.0 [min]  27.960660934448242 [sec]\n"
     ]
    },
    {
     "data": {
      "text/plain": [
       "4038.7043250446445"
      ]
     },
     "execution_count": 19,
     "metadata": {},
     "output_type": "execute_result"
    }
   ],
   "source": [
    "Tcapture(135,1e3,'r_giant', 1,'TQM','1e3_135_rgiant_TQM')"
   ]
  },
  {
   "cell_type": "code",
   "execution_count": 20,
   "metadata": {},
   "outputs": [
    {
     "name": "stdout",
     "output_type": "stream",
     "text": [
      "condition1 = True condition2 = False condition3 = False\n",
      "final a = 69.61476390264467\n",
      "final i = 19.60250924715999\n",
      "number of passes through disk (n) = 106425\n",
      "grind time = 609845.3877470043 years\n",
      "Processing time = 0.0 [hr]  1.0 [min]  25.868328094482422 [sec]\n"
     ]
    },
    {
     "data": {
      "text/plain": [
       "609845.3877470043"
      ]
     },
     "execution_count": 20,
     "metadata": {},
     "output_type": "execute_result"
    }
   ],
   "source": [
    "Tcapture(135,1e5,'r_giant', 1,'TQM','1e5_135_rgiant_TQM')"
   ]
  },
  {
   "cell_type": "code",
   "execution_count": 21,
   "metadata": {},
   "outputs": [
    {
     "name": "stdout",
     "output_type": "stream",
     "text": [
      "condition1 = True condition2 = False condition3 = False\n",
      "final a = 550.3249208115435\n",
      "final i = 2.757245289473572\n",
      "number of passes through disk (n) = 108235\n",
      "grind time = 78950454.5127964 years\n",
      "Processing time = 0.0 [hr]  1.0 [min]  28.08686089515686 [sec]\n"
     ]
    },
    {
     "data": {
      "text/plain": [
       "78950454.5127964"
      ]
     },
     "execution_count": 21,
     "metadata": {},
     "output_type": "execute_result"
    }
   ],
   "source": [
    "Tcapture(135,1e6,'r_giant', 1,'TQM','1e6_135_rgiant_TQM')"
   ]
  },
  {
   "cell_type": "code",
   "execution_count": 22,
   "metadata": {},
   "outputs": [
    {
     "name": "stdout",
     "output_type": "stream",
     "text": [
      "condition1 = True condition2 = False condition3 = False\n",
      "final a = 5464.012092602628\n",
      "final i = 0.02606828682863066\n",
      "number of passes through disk (n) = 88835\n",
      "grind time = 25296306162.004185 years\n",
      "Processing time = 0.0 [hr]  1.0 [min]  17.496559143066406 [sec]\n"
     ]
    },
    {
     "data": {
      "text/plain": [
       "25296306162.004185"
      ]
     },
     "execution_count": 22,
     "metadata": {},
     "output_type": "execute_result"
    }
   ],
   "source": [
    "Tcapture(135,1e7,'r_giant', 1,'TQM','1e7_135_rgiant_TQM')"
   ]
  },
  {
   "cell_type": "code",
   "execution_count": null,
   "metadata": {},
   "outputs": [],
   "source": []
  },
  {
   "cell_type": "code",
   "execution_count": null,
   "metadata": {},
   "outputs": [],
   "source": []
  },
  {
   "cell_type": "code",
   "execution_count": null,
   "metadata": {},
   "outputs": [],
   "source": []
  },
  {
   "cell_type": "code",
   "execution_count": 16,
   "metadata": {},
   "outputs": [
    {
     "name": "stdout",
     "output_type": "stream",
     "text": [
      "condition1 = True condition2 = False condition3 = False\n",
      "final a = 2686.499266307652\n",
      "final i = -0.5633285272725421\n",
      "number of passes through disk (n) = 61775\n",
      "grind time = 353657.37548777636 years\n",
      "Processing time = 0.0 [hr]  0.0 [min]  50.778035163879395 [sec]\n"
     ]
    },
    {
     "data": {
      "text/plain": [
       "353657.37548777636"
      ]
     },
     "execution_count": 16,
     "metadata": {},
     "output_type": "execute_result"
    }
   ],
   "source": [
    "Tcapture(-45,1e4,'r_giant', 1,'TQM','1e4_n45_rgiant_TQM')"
   ]
  },
  {
   "cell_type": "code",
   "execution_count": 17,
   "metadata": {},
   "outputs": [
    {
     "name": "stdout",
     "output_type": "stream",
     "text": [
      "condition1 = False condition2 = True condition3 = True\n",
      "final a = 59.60281228199409\n",
      "final i = -60.2883453528221\n",
      "number of passes through disk (n) = 50754\n",
      "grind time = 30381.21319257089 years\n",
      "Processing time = 0.0 [hr]  0.0 [min]  43.54406929016113 [sec]\n"
     ]
    },
    {
     "data": {
      "text/plain": [
       "30381.21319257089"
      ]
     },
     "execution_count": 17,
     "metadata": {},
     "output_type": "execute_result"
    }
   ],
   "source": [
    "Tcapture(-135,1e4,'r_giant', 1,'TQM','1e4_n135_rgiant_TQM')"
   ]
  },
  {
   "cell_type": "code",
   "execution_count": null,
   "metadata": {},
   "outputs": [],
   "source": []
  }
 ],
 "metadata": {
  "kernelspec": {
   "display_name": "Python 3",
   "language": "python",
   "name": "python3"
  },
  "language_info": {
   "codemirror_mode": {
    "name": "ipython",
    "version": 3
   },
   "file_extension": ".py",
   "mimetype": "text/x-python",
   "name": "python",
   "nbconvert_exporter": "python",
   "pygments_lexer": "ipython3",
   "version": "3.8.3"
  }
 },
 "nbformat": 4,
 "nbformat_minor": 4
}
