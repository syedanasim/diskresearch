{
 "cells": [
  {
   "cell_type": "code",
   "execution_count": 1,
   "metadata": {},
   "outputs": [],
   "source": [
    "exec(open(\"functions_i_main.py\").read())"
   ]
  },
  {
   "cell_type": "code",
   "execution_count": null,
   "metadata": {},
   "outputs": [],
   "source": []
  },
  {
   "cell_type": "code",
   "execution_count": 21,
   "metadata": {},
   "outputs": [
    {
     "name": "stdout",
     "output_type": "stream",
     "text": [
      "condition1 = False condition2 = True condition3 = True\n",
      "final a = 5.190708968573857\n",
      "final i = 32.22540405117481\n",
      "number of passes through disk (n) = 627\n",
      "grind time = 0.40769551961586026 years\n",
      "Processing time = 0.0 [hr]  0.0 [min]  1.0761239528656006 [sec]\n"
     ]
    },
    {
     "data": {
      "text/plain": [
       "0.40769551961586026"
      ]
     },
     "execution_count": 21,
     "metadata": {},
     "output_type": "execute_result"
    }
   ],
   "source": [
    "Tcapture(45,1e1,'r_giant', 50,'SG','1e1_45_rgiant_SG')"
   ]
  },
  {
   "cell_type": "code",
   "execution_count": 18,
   "metadata": {
    "collapsed": true
   },
   "outputs": [
    {
     "name": "stdout",
     "output_type": "stream",
     "text": [
      "condition1 = True condition2 = False condition3 = False\n",
      "final a = 27.081786052034417\n",
      "final i = 2.462587621442481\n",
      "number of passes through disk (n) = 726\n",
      "grind time = 5.005086044771735 years\n",
      "Processing time = 0.0 [hr]  0.0 [min]  1.2202322483062744 [sec]\n"
     ]
    },
    {
     "data": {
      "text/plain": [
       "5.005086044771735"
      ]
     },
     "execution_count": 18,
     "metadata": {},
     "output_type": "execute_result"
    }
   ],
   "source": [
    "Tcapture(45,1e2,'r_giant', 50,'SG','1e2_45_rgiant_SG')"
   ]
  },
  {
   "cell_type": "code",
   "execution_count": 19,
   "metadata": {
    "collapsed": true
   },
   "outputs": [
    {
     "name": "stdout",
     "output_type": "stream",
     "text": [
      "condition1 = True condition2 = False condition3 = False\n",
      "final a = 276.00852016277327\n",
      "final i = 0.8714848064674212\n",
      "number of passes through disk (n) = 314\n",
      "grind time = 61.437324254242164 years\n",
      "Processing time = 0.0 [hr]  0.0 [min]  0.5476188659667969 [sec]\n"
     ]
    },
    {
     "data": {
      "text/plain": [
       "61.437324254242164"
      ]
     },
     "execution_count": 19,
     "metadata": {},
     "output_type": "execute_result"
    }
   ],
   "source": [
    "Tcapture(45,1e3,'r_giant', 50,'SG','1e3_45_rgiant_SG')"
   ]
  },
  {
   "cell_type": "code",
   "execution_count": 36,
   "metadata": {
    "collapsed": true
   },
   "outputs": [
    {
     "name": "stdout",
     "output_type": "stream",
     "text": [
      "condition1 = True condition2 = False condition3 = False\n",
      "final a = 404008537170085.4\n",
      "final i = 0.004549006848466235\n",
      "number of passes through disk (n) = 168\n",
      "grind time = 53332889631.91599 seconds OR 1690.9603561165502 years\n",
      "Processing time = 0.0 [hr]  0.0 [min]  0.31029295921325684 [sec]\n"
     ]
    },
    {
     "data": {
      "text/plain": [
       "1690.9603561165502"
      ]
     },
     "execution_count": 36,
     "metadata": {},
     "output_type": "execute_result"
    }
   ],
   "source": [
    "Tcapture(45,1e4,'r_giant', 50,'SG','1e4_45_rgiant_SG')"
   ]
  },
  {
   "cell_type": "code",
   "execution_count": 38,
   "metadata": {
    "collapsed": true
   },
   "outputs": [
    {
     "name": "stdout",
     "output_type": "stream",
     "text": [
      "condition1 = True condition2 = False condition3 = False\n",
      "final a = 4030013535597036.0\n",
      "final i = 0.016187526950892882\n",
      "number of passes through disk (n) = 3684\n",
      "grind time = 42803232471502.375 seconds OR 1357109.4632689403 years\n",
      "Processing time = 0.0 [hr]  0.0 [min]  6.614987134933472 [sec]\n"
     ]
    },
    {
     "data": {
      "text/plain": [
       "1357109.4632689403"
      ]
     },
     "execution_count": 38,
     "metadata": {},
     "output_type": "execute_result"
    }
   ],
   "source": [
    "Tcapture(45,1e5,'r_giant', 500,'SG','1e5_45_rgiant_SG')"
   ]
  },
  {
   "cell_type": "code",
   "execution_count": null,
   "metadata": {},
   "outputs": [],
   "source": [
    "Tcapture(45,1e6,'r_giant', 5000,'SG','1e6_45_rgiant_SG')"
   ]
  },
  {
   "cell_type": "code",
   "execution_count": null,
   "metadata": {
    "scrolled": true
   },
   "outputs": [],
   "source": [
    "Tcapture(45,1e7,'r_giant', 500000,'SG','1e7_45_rgiant_SG')"
   ]
  },
  {
   "cell_type": "code",
   "execution_count": null,
   "metadata": {},
   "outputs": [],
   "source": [
    "1268283808.9634383, 1117846080003.3638"
   ]
  },
  {
   "cell_type": "code",
   "execution_count": 16,
   "metadata": {
    "collapsed": true
   },
   "outputs": [
    {
     "name": "stdout",
     "output_type": "stream",
     "text": [
      "condition1 = True condition2 = False condition3 = False\n",
      "final a = 1477498054698662.2\n",
      "final i = 0.009829084031675026\n",
      "number of passes through disk (n) = 270\n",
      "grind time = 297202837504.49164 seconds OR 9423.044943072024 years\n",
      "Processing time = 0.0001548930009206136 [hr]  0.009293580055236816 [min]  0.557614803314209 [sec]\n"
     ]
    },
    {
     "data": {
      "text/plain": [
       "9423.044943072024"
      ]
     },
     "execution_count": 16,
     "metadata": {},
     "output_type": "execute_result"
    }
   ],
   "source": [
    "Tcapture(60,1e4,'r_giant', 50,'SG','1e4_5_rgiant_SG')"
   ]
  },
  {
   "cell_type": "code",
   "execution_count": 17,
   "metadata": {
    "collapsed": true
   },
   "outputs": [
    {
     "name": "stdout",
     "output_type": "stream",
     "text": [
      "condition1 = True condition2 = False condition3 = False\n",
      "final a = 1305554400887049.8\n",
      "final i = 0.00915841488557263\n",
      "number of passes through disk (n) = 400\n",
      "grind time = 376601039964.84894 seconds OR 11940.426124440359 years\n",
      "Processing time = 0.0001993266079160902 [hr]  0.011959596474965414 [min]  0.7175757884979248 [sec]\n"
     ]
    },
    {
     "data": {
      "text/plain": [
       "11940.426124440359"
      ]
     },
     "execution_count": 17,
     "metadata": {},
     "output_type": "execute_result"
    }
   ],
   "source": [
    "Tcapture(15,1e4,'r_giant', 50,'SG','1e4_15_rgiant_SG')"
   ]
  },
  {
   "cell_type": "code",
   "execution_count": 18,
   "metadata": {
    "collapsed": true
   },
   "outputs": [
    {
     "name": "stdout",
     "output_type": "stream",
     "text": [
      "condition1 = True condition2 = False condition3 = False\n",
      "final a = 848754509138072.8\n",
      "final i = 0.00674118101495881\n",
      "number of passes through disk (n) = 290\n",
      "grind time = 167562694620.04297 seconds OR 5312.704331643721 years\n",
      "Processing time = 0.00014321671591864692 [hr]  0.008593002955118815 [min]  0.5155801773071289 [sec]\n"
     ]
    },
    {
     "data": {
      "text/plain": [
       "5312.704331643721"
      ]
     },
     "execution_count": 18,
     "metadata": {},
     "output_type": "execute_result"
    }
   ],
   "source": [
    "Tcapture(30,1e4,'r_giant', 50,'SG','1e4_30_rgiant_SG')"
   ]
  },
  {
   "cell_type": "code",
   "execution_count": 9,
   "metadata": {
    "collapsed": true
   },
   "outputs": [
    {
     "name": "stdout",
     "output_type": "stream",
     "text": [
      "condition1 = True condition2 = True condition3 = True\n",
      "n = 1 t_sum = 1120165798.1345024 seconds\n",
      "a = 1465896632889706.5 i = 1.0419722896990276\n",
      "condition1 = True condition2 = True condition3 = False\n",
      "n = 51 t_sum = 22329046895.87681 seconds\n",
      "a = 170292395900728.12 i = 0.2681668170693911\n",
      "condition1 = True condition2 = True condition3 = False\n",
      "n = 101 t_sum = 24102401201.99861 seconds\n",
      "a = 146655163461228.06 i = 0.007777132992027616\n",
      "condition1 = True condition2 = False condition3 = False\n",
      "final a = 146641769465018.62\n",
      "final i = 0.004069138729493636\n",
      "number of passes through disk (n) = 109\n",
      "grind time = 24376338085.3938 seconds OR 772.8705797524984 years\n",
      "Processing time = 6.18829992082384e-05 [hr]  0.2227787971496582 [min]  0.2227787971496582 [sec]\n"
     ]
    },
    {
     "data": {
      "text/plain": [
       "772.8705797524984"
      ]
     },
     "execution_count": 9,
     "metadata": {},
     "output_type": "execute_result"
    }
   ],
   "source": [
    "Tcapture(60,1e4,'r_giant', 50,'SG','1e4_60_rgiant_SG')"
   ]
  },
  {
   "cell_type": "code",
   "execution_count": 10,
   "metadata": {
    "collapsed": true
   },
   "outputs": [
    {
     "name": "stdout",
     "output_type": "stream",
     "text": [
      "condition1 = True condition2 = True condition3 = True\n",
      "n = 1 t_sum = 1120165798.1345024 seconds\n",
      "a = 1456638004033479.2 i = 1.3897189096724794\n",
      "condition1 = True condition2 = True condition3 = False\n",
      "n = 51 t_sum = 16418520103.584694 seconds\n",
      "a = 54700792831874.94 i = 0.48291078045090197\n",
      "condition1 = True condition2 = True condition3 = False\n",
      "n = 101 t_sum = 16710275627.702095 seconds\n",
      "a = 39621823781969.086 i = 0.2803314860729549\n",
      "condition1 = True condition2 = True condition3 = False\n",
      "n = 151 t_sum = 16932361366.26726 seconds\n",
      "a = 36075156719251.2 i = 0.18064342716683263\n",
      "condition1 = True condition2 = True condition3 = False\n",
      "n = 201 t_sum = 17134826950.45792 seconds\n",
      "a = 34753508332355.457 i = 0.1190780036263542\n",
      "condition1 = True condition2 = True condition3 = False\n",
      "n = 251 t_sum = 17329708216.524544 seconds\n",
      "a = 34198696914776.25 i = 0.07869012434175093\n",
      "condition1 = True condition2 = True condition3 = False\n",
      "n = 301 t_sum = 17521386952.209232 seconds\n",
      "a = 33958834203907.965 i = 0.0518896224099287\n",
      "condition1 = True condition2 = True condition3 = False\n",
      "n = 351 t_sum = 17711679138.97589 seconds\n",
      "a = 33853885522165.527 i = 0.03394720887017249\n",
      "condition1 = True condition2 = True condition3 = False\n",
      "n = 401 t_sum = 17901363058.989716 seconds\n",
      "a = 33807350565423.42 i = 0.02163097067299827\n",
      "condition1 = True condition2 = False condition3 = False\n",
      "final a = 33797383912052.027\n",
      "final i = 0.017923632945808454\n",
      "number of passes through disk (n) = 419\n",
      "grind time = 17969571976.31678 seconds OR 569.7391241698408 years\n",
      "Processing time = 0.00021859778298272028 [hr]  0.786952018737793 [min]  0.786952018737793 [sec]\n"
     ]
    },
    {
     "data": {
      "text/plain": [
       "569.7391241698408"
      ]
     },
     "execution_count": 10,
     "metadata": {},
     "output_type": "execute_result"
    }
   ],
   "source": [
    "Tcapture(80,1e4,'r_giant', 50,'SG','1e4_80_rgiant_SG')"
   ]
  },
  {
   "cell_type": "code",
   "execution_count": null,
   "metadata": {},
   "outputs": [],
   "source": []
  },
  {
   "cell_type": "code",
   "execution_count": 22,
   "metadata": {
    "collapsed": true
   },
   "outputs": [
    {
     "name": "stdout",
     "output_type": "stream",
     "text": [
      "condition1 = False condition2 = True condition3 = True\n",
      "final a = 8940448859908.445\n",
      "final i = 0.6169041301601295\n",
      "number of passes through disk (n) = 57860\n",
      "grind time = 43289100470.31358 seconds OR 1372.5142825083572 years\n",
      "Processing time = 0.0 [hr]  1.0 [min]  10.508067846298218 [sec]\n"
     ]
    },
    {
     "data": {
      "text/plain": [
       "1372.5142825083572"
      ]
     },
     "execution_count": 22,
     "metadata": {},
     "output_type": "execute_result"
    }
   ],
   "source": [
    "Tcapture(45,1e2,'r_giant', 5000,'TQM','1e2_45_rgiant_TQM')"
   ]
  },
  {
   "cell_type": "code",
   "execution_count": 20,
   "metadata": {
    "collapsed": true
   },
   "outputs": [
    {
     "name": "stdout",
     "output_type": "stream",
     "text": [
      "condition1 = True condition2 = False condition3 = False\n",
      "final a = 40484254995201.734\n",
      "final i = 0.05090132542887325\n",
      "number of passes through disk (n) = 248838\n",
      "grind time = 1944945072498.3281 seconds OR 61665.98200692226 years\n",
      "Processing time = 0.08743194864855872 [hr]  5.245916918913523 [min]  14.755015134811401 [sec]\n"
     ]
    },
    {
     "data": {
      "text/plain": [
       "61665.98200692226"
      ]
     },
     "execution_count": 20,
     "metadata": {},
     "output_type": "execute_result"
    }
   ],
   "source": [
    "Tcapture(45,1e3,'r_giant', 5000,'TQM','1e3_45_rgiant_TQM')"
   ]
  },
  {
   "cell_type": "code",
   "execution_count": null,
   "metadata": {},
   "outputs": [],
   "source": [
    "Tcapture(45,1e4,'r_giant', 5000,'TQM','1e4_45_rgiant_TQM') ###########"
   ]
  },
  {
   "cell_type": "code",
   "execution_count": 22,
   "metadata": {
    "collapsed": true
   },
   "outputs": [
    {
     "name": "stdout",
     "output_type": "stream",
     "text": [
      "condition1 = True condition2 = False condition3 = False\n",
      "final a = 4027554841280261.5\n",
      "final i = 0.000382222496875774\n",
      "number of passes through disk (n) = 66904\n",
      "grind time = 476476976541343.7 seconds OR 15107069.643035628 years\n",
      "Processing time = 0.02452478779686822 [hr]  1.4714872678120932 [min]  28.289236068725586 [sec]\n"
     ]
    },
    {
     "data": {
      "text/plain": [
       "15107069.643035628"
      ]
     },
     "execution_count": 22,
     "metadata": {},
     "output_type": "execute_result"
    }
   ],
   "source": [
    "Tcapture(45,1e5,'r_giant', 5000,'TQM','1e5_45_rgiant_TQM')"
   ]
  },
  {
   "cell_type": "code",
   "execution_count": 23,
   "metadata": {
    "collapsed": true
   },
   "outputs": [
    {
     "name": "stdout",
     "output_type": "stream",
     "text": [
      "condition1 = True condition2 = False condition3 = False\n",
      "final a = 4.027515735471859e+16\n",
      "final i = 0.0019302974162564955\n",
      "number of passes through disk (n) = 247214\n",
      "grind time = 5.813667690716733e+16 seconds OR 1843268132.7573662 years\n",
      "Processing time = 0.08823136356141832 [hr]  5.2938818136851 [min]  17.632908821105957 [sec]\n"
     ]
    },
    {
     "data": {
      "text/plain": [
       "1843268132.7573662"
      ]
     },
     "execution_count": 23,
     "metadata": {},
     "output_type": "execute_result"
    }
   ],
   "source": [
    "Tcapture(45,1e6,'r_giant', 5000,'TQM','1e6_45_rgiant_TQM')"
   ]
  },
  {
   "cell_type": "code",
   "execution_count": 24,
   "metadata": {
    "collapsed": true
   },
   "outputs": [
    {
     "name": "stdout",
     "output_type": "stream",
     "text": [
      "condition1 = True condition2 = False condition3 = False\n",
      "final a = 4.030259666689386e+17\n",
      "final i = 0.018627696780980276\n",
      "number of passes through disk (n) = 1355594\n",
      "grind time = 1.3456636124980126e+19 seconds OR 426653016010.78394 years\n",
      "Processing time = 0.4987197780609131 [hr]  29.923186683654784 [min]  55.39120101928711 [sec]\n"
     ]
    },
    {
     "data": {
      "text/plain": [
       "426653016010.78394"
      ]
     },
     "execution_count": 24,
     "metadata": {},
     "output_type": "execute_result"
    }
   ],
   "source": [
    "Tcapture(45,1e7,'r_giant', 5000,'TQM','1e7_45_rgiant_TQM')"
   ]
  },
  {
   "cell_type": "code",
   "execution_count": 45,
   "metadata": {},
   "outputs": [
    {
     "name": "stdout",
     "output_type": "stream",
     "text": [
      "condition1 = True condition2 = False condition3 = False\n",
      "final a = 1477293911476890.2\n",
      "final i = 0.00026582504033060867\n",
      "number of passes through disk (n) = 18842\n",
      "grind time = 20670817584154.934 seconds OR 655384.1973416276 years\n",
      "Processing time = 0.0 [hr]  0.0 [min]  29.73762822151184 [sec]\n"
     ]
    },
    {
     "data": {
      "text/plain": [
       "655384.1973416276"
      ]
     },
     "execution_count": 45,
     "metadata": {},
     "output_type": "execute_result"
    }
   ],
   "source": [
    "Tcapture(5,1e4,'r_giant', 5000,'TQM','1e4_5_rgiant_TQM') ###########"
   ]
  },
  {
   "cell_type": "code",
   "execution_count": 42,
   "metadata": {
    "collapsed": true
   },
   "outputs": [
    {
     "name": "stdout",
     "output_type": "stream",
     "text": [
      "condition1 = True condition2 = False condition3 = False\n",
      "final a = 1305888768283523.8\n",
      "final i = 0.00025331896994329825\n",
      "number of passes through disk (n) = 20362\n",
      "grind time = 18846449467688.97 seconds OR 597541.200624254 years\n",
      "Processing time = 0.0 [hr]  0.0 [min]  27.124713897705078 [sec]\n"
     ]
    },
    {
     "data": {
      "text/plain": [
       "597541.200624254"
      ]
     },
     "execution_count": 42,
     "metadata": {},
     "output_type": "execute_result"
    }
   ],
   "source": [
    "Tcapture(15,1e4,'r_giant', 5000,'TQM','1e4_15_rgiant_TQM') ###########"
   ]
  },
  {
   "cell_type": "code",
   "execution_count": 41,
   "metadata": {
    "collapsed": true
   },
   "outputs": [
    {
     "name": "stdout",
     "output_type": "stream",
     "text": [
      "condition1 = True condition2 = False condition3 = False\n",
      "final a = 849506783864588.2\n",
      "final i = 0.00022860941057957157\n",
      "number of passes through disk (n) = 17451\n",
      "grind time = 9081820648504.318 seconds OR 287946.1207515637 years\n",
      "Processing time = 0.0 [hr]  0.0 [min]  24.469605207443237 [sec]\n"
     ]
    },
    {
     "data": {
      "text/plain": [
       "287946.1207515637"
      ]
     },
     "execution_count": 41,
     "metadata": {},
     "output_type": "execute_result"
    }
   ],
   "source": [
    "Tcapture(30,1e4,'r_giant', 5000,'TQM','1e4_30_rgiant_TQM') ###########"
   ]
  },
  {
   "cell_type": "code",
   "execution_count": 28,
   "metadata": {
    "collapsed": true
   },
   "outputs": [
    {
     "name": "stdout",
     "output_type": "stream",
     "text": [
      "condition1 = True condition2 = False condition3 = False\n",
      "final a = 141184069807159.66\n",
      "final i = 0.013669262810801521\n",
      "number of passes through disk (n) = 210302\n",
      "grind time = 10643775018026.752 seconds OR 337469.0874453631 years\n",
      "Processing time = 0.07220255798763699 [hr]  4.33215347925822 [min]  19.929208755493164 [sec]\n"
     ]
    },
    {
     "data": {
      "text/plain": [
       "337469.0874453631"
      ]
     },
     "execution_count": 28,
     "metadata": {},
     "output_type": "execute_result"
    }
   ],
   "source": [
    "Tcapture(60,1e4,'r_giant', 5000,'TQM','1e4_60_rgiant_TQM') ###########"
   ]
  },
  {
   "cell_type": "code",
   "execution_count": 29,
   "metadata": {
    "collapsed": true
   },
   "outputs": [
    {
     "name": "stdout",
     "output_type": "stream",
     "text": [
      "condition1 = True condition2 = False condition3 = False\n",
      "final a = 27887549177779.25\n",
      "final i = 0.07452126988963549\n",
      "number of passes through disk (n) = 288303\n",
      "grind time = 3954211317871.0347 seconds OR 125371.3163560886 years\n",
      "Processing time = 0.10512230780389574 [hr]  6.307338468233744 [min]  18.440308094024658 [sec]\n"
     ]
    },
    {
     "data": {
      "text/plain": [
       "125371.3163560886"
      ]
     },
     "execution_count": 29,
     "metadata": {},
     "output_type": "execute_result"
    }
   ],
   "source": [
    "Tcapture(80,1e4,'r_giant', 5000,'TQM','1e4_80_rgiant_TQM') ###########"
   ]
  },
  {
   "cell_type": "code",
   "execution_count": 4,
   "metadata": {
    "collapsed": true
   },
   "outputs": [
    {
     "ename": "KeyboardInterrupt",
     "evalue": "",
     "output_type": "error",
     "traceback": [
      "\u001b[0;31m---------------------------------------------------------------------------\u001b[0m",
      "\u001b[0;31mKeyboardInterrupt\u001b[0m                         Traceback (most recent call last)",
      "\u001b[0;32m<ipython-input-4-b56ca2328e5a>\u001b[0m in \u001b[0;36m<module>\u001b[0;34m\u001b[0m\n\u001b[0;32m----> 1\u001b[0;31m \u001b[0mTcapture\u001b[0m\u001b[0;34m(\u001b[0m\u001b[0mpi\u001b[0m\u001b[0;34m/\u001b[0m\u001b[0;36m4\u001b[0m\u001b[0;34m,\u001b[0m\u001b[0;36m10\u001b[0m\u001b[0;34m**\u001b[0m\u001b[0;36m5\u001b[0m\u001b[0;34m*\u001b[0m\u001b[0mRg\u001b[0m\u001b[0;34m,\u001b[0m\u001b[0;34m'o_star'\u001b[0m\u001b[0;34m,\u001b[0m \u001b[0;36m5000\u001b[0m\u001b[0;34m,\u001b[0m\u001b[0;34m'TQM'\u001b[0m\u001b[0;34m,\u001b[0m\u001b[0;34m'1e5_45_ostar_TQM'\u001b[0m\u001b[0;34m)\u001b[0m\u001b[0;34m\u001b[0m\u001b[0;34m\u001b[0m\u001b[0m\n\u001b[0m",
      "\u001b[0;32m<string>\u001b[0m in \u001b[0;36mTcapture\u001b[0;34m(i, am, star, intermediate, disk, name)\u001b[0m\n",
      "\u001b[0;32m<string>\u001b[0m in \u001b[0;36mi_new_STO\u001b[0;34m(i_in, am_in, mstar, rstar, density, hint)\u001b[0m\n",
      "\u001b[0;32m<string>\u001b[0m in \u001b[0;36mvktheta_new_STO\u001b[0;34m(i_in, am_in, rstar, mstar, density, hint)\u001b[0m\n",
      "\u001b[0;32m<string>\u001b[0m in \u001b[0;36mdvtheta_STO\u001b[0;34m(i, am, rstar, mstar, density, hint)\u001b[0m\n",
      "\u001b[0;32m<string>\u001b[0m in \u001b[0;36mFtheta_STO\u001b[0;34m(i, am, rstar, density)\u001b[0m\n",
      "\u001b[0;32m<string>\u001b[0m in \u001b[0;36mdensity_TQM\u001b[0;34m(am)\u001b[0m\n",
      "\u001b[0;32m<string>\u001b[0m in \u001b[0;36msurfacedensityint_TQM\u001b[0;34m(am)\u001b[0m\n",
      "\u001b[0;32m<string>\u001b[0m in \u001b[0;36m__init__\u001b[0;34m(self, x, y)\u001b[0m\n",
      "\u001b[0;31mKeyboardInterrupt\u001b[0m: "
     ]
    }
   ],
   "source": [
    "Tcapture(45,1e5,'o_star', 5000,'TQM','1e5_45_ostar_TQM')"
   ]
  },
  {
   "cell_type": "code",
   "execution_count": null,
   "metadata": {},
   "outputs": [],
   "source": [
    "Tcapture(45,1e5,'g_star', 5000,'TQM','1e5_45_gstar_TQM')"
   ]
  },
  {
   "cell_type": "code",
   "execution_count": null,
   "metadata": {},
   "outputs": [],
   "source": [
    "Tcapture(45,1e5,'m_star', 5000,'TQM','1e5_45_mstar_TQM')"
   ]
  },
  {
   "cell_type": "code",
   "execution_count": null,
   "metadata": {},
   "outputs": [],
   "source": []
  },
  {
   "cell_type": "code",
   "execution_count": 47,
   "metadata": {
    "collapsed": true
   },
   "outputs": [
    {
     "name": "stdout",
     "output_type": "stream",
     "text": [
      "condition1 = True condition2 = False condition3 = False\n",
      "final a = 849611026411074.1\n",
      "final i = 0.00686621076517686\n",
      "number of passes through disk (n) = 431445\n",
      "grind time = 248905784431360.75 seconds OR 7891749.66491315 years\n",
      "Processing time = 0.0 [hr]  13.0 [min]  44.36338210105896 [sec]\n"
     ]
    },
    {
     "data": {
      "text/plain": [
       "7891749.66491315"
      ]
     },
     "execution_count": 47,
     "metadata": {},
     "output_type": "execute_result"
    }
   ],
   "source": [
    "Tcapture(30,1e4,'o_star', 5000,'SG','1e4_30_ostar_SG') ###########"
   ]
  },
  {
   "cell_type": "code",
   "execution_count": 2,
   "metadata": {
    "collapsed": true
   },
   "outputs": [
    {
     "name": "stdout",
     "output_type": "stream",
     "text": [
      "condition1 = True condition2 = False condition3 = False\n",
      "final a = 849611476027742.9\n",
      "final i = 0.006866242609410574\n",
      "number of passes through disk (n) = 1941508\n",
      "grind time = 1120078187520314.0 seconds OR 35512941.899819724 years\n",
      "Processing time = 1.0 [hr]  31.0 [min]  43.09917712211609 [sec]\n"
     ]
    },
    {
     "data": {
      "text/plain": [
       "35512941.899819724"
      ]
     },
     "execution_count": 2,
     "metadata": {},
     "output_type": "execute_result"
    }
   ],
   "source": [
    "Tcapture(30,1e4,'g_star', 5000,'SG','1e4_30_gstar_SG') ###########"
   ]
  },
  {
   "cell_type": "code",
   "execution_count": 3,
   "metadata": {
    "collapsed": true
   },
   "outputs": [
    {
     "name": "stdout",
     "output_type": "stream",
     "text": [
      "condition1 = True condition2 = False condition3 = False\n",
      "final a = 849611563773424.6\n",
      "final i = 0.006866265637753416\n",
      "number of passes through disk (n) = 6067214\n",
      "grind time = 3500244767692790.0 seconds OR 110977957.12405802 years\n",
      "Processing time = 15.0 [hr]  10.0 [min]  4.111682176589966 [sec]\n"
     ]
    },
    {
     "data": {
      "text/plain": [
       "110977957.12405802"
      ]
     },
     "execution_count": 3,
     "metadata": {},
     "output_type": "execute_result"
    }
   ],
   "source": [
    "Tcapture(30,1e4,'m_star', 5000,'SG','1e4_30_mstar_SG') ###########"
   ]
  },
  {
   "cell_type": "code",
   "execution_count": 4,
   "metadata": {
    "collapsed": true
   },
   "outputs": [
    {
     "name": "stdout",
     "output_type": "stream",
     "text": [
      "condition1 = True condition2 = False condition3 = False\n",
      "final a = 141068937239893.38\n",
      "final i = 0.004394454756911993\n",
      "number of passes through disk (n) = 163317\n",
      "grind time = 34256296252577.43 seconds OR 1086122.265459018 years\n",
      "Processing time = 0.0 [hr]  19.0 [min]  31.160322666168213 [sec]\n"
     ]
    },
    {
     "data": {
      "text/plain": [
       "1086122.265459018"
      ]
     },
     "execution_count": 4,
     "metadata": {},
     "output_type": "execute_result"
    }
   ],
   "source": [
    "Tcapture(60,1e4,'o_star', 5000,'SG','1e4_60_ostar_SG') ###########"
   ]
  },
  {
   "cell_type": "code",
   "execution_count": 5,
   "metadata": {
    "collapsed": true
   },
   "outputs": [
    {
     "name": "stdout",
     "output_type": "stream",
     "text": [
      "condition1 = True condition2 = False condition3 = False\n",
      "final a = 141065830436520.2\n",
      "final i = 0.004394766302019313\n",
      "number of passes through disk (n) = 734929\n",
      "grind time = 154148783125409.94 seconds OR 4887405.932955293 years\n",
      "Processing time = 0.0 [hr]  25.0 [min]  40.46867489814758 [sec]\n"
     ]
    },
    {
     "data": {
      "text/plain": [
       "4887405.932955293"
      ]
     },
     "execution_count": 5,
     "metadata": {},
     "output_type": "execute_result"
    }
   ],
   "source": [
    "Tcapture(60,1e4,'g_star', 5000,'SG','1e4_60_gstar_SG') ###########"
   ]
  },
  {
   "cell_type": "code",
   "execution_count": 6,
   "metadata": {
    "collapsed": true
   },
   "outputs": [
    {
     "name": "stdout",
     "output_type": "stream",
     "text": [
      "condition1 = True condition2 = False condition3 = False\n",
      "final a = 141065226687627.94\n",
      "final i = 0.0043947750094292075\n",
      "number of passes through disk (n) = 2296657\n",
      "grind time = 481712260880456.56 seconds OR 15273058.366533183 years\n",
      "Processing time = 2.0 [hr]  20.0 [min]  29.36981201171875 [sec]\n"
     ]
    },
    {
     "data": {
      "text/plain": [
       "15273058.366533183"
      ]
     },
     "execution_count": 6,
     "metadata": {},
     "output_type": "execute_result"
    }
   ],
   "source": [
    "Tcapture(60,1e4,'m_star', 5000,'SG','1e4_60_mstar_SG') ###########"
   ]
  },
  {
   "cell_type": "code",
   "execution_count": null,
   "metadata": {},
   "outputs": [],
   "source": []
  },
  {
   "cell_type": "code",
   "execution_count": null,
   "metadata": {},
   "outputs": [],
   "source": [
    "Tcapture(45,1e2,'o_star', 500000,'SG','1e2_45_ostar_SG')"
   ]
  },
  {
   "cell_type": "code",
   "execution_count": 4,
   "metadata": {
    "collapsed": true
   },
   "outputs": [
    {
     "name": "stdout",
     "output_type": "stream",
     "text": [
      "condition1 = True condition2 = True condition3 = True\n",
      "n = 1 t_sum = 1120165.7981345023 seconds\n",
      "a = 14999764576991.463 i = 0.7853936325939108\n",
      "condition1 = True condition2 = True condition3 = False\n",
      "n = 500001 t_sum = 139700636436.36655 seconds\n",
      "a = 4274592115484.04 i = 0.17212982815273462\n",
      "condition1 = True condition2 = True condition3 = False\n",
      "n = 1000001 t_sum = 220423858053.45767 seconds\n",
      "a = 4051143245009.4414 i = 0.05411299932679886\n",
      "condition1 = True condition2 = False condition3 = False\n",
      "final a = 4042502592113.5815\n",
      "final i = 0.043145493803690094\n",
      "number of passes through disk (n) = 1083137\n",
      "grind time = 233472872789.90652 seconds OR 7402.437311030644 years\n",
      "Processing time = 34.04272971947988 [min]  2.5637831687927246  [sec]\n"
     ]
    },
    {
     "data": {
      "text/plain": [
       "7402.437311030644"
      ]
     },
     "execution_count": 4,
     "metadata": {},
     "output_type": "execute_result"
    }
   ],
   "source": [
    "Tcapture(45,1e2,'o_star', 500000,'SG','1e2_45_ostar_SG')"
   ]
  },
  {
   "cell_type": "code",
   "execution_count": 6,
   "metadata": {
    "collapsed": true
   },
   "outputs": [
    {
     "name": "stdout",
     "output_type": "stream",
     "text": [
      "condition1 = True condition2 = True condition3 = True\n",
      "n = 1 t_sum = 35422752.791254185 seconds\n",
      "a = 149985969338855.25 i = 0.7853711583358834\n",
      "condition1 = True condition2 = False condition3 = False\n",
      "final a = 40295195554239.805\n",
      "final i = 0.015700309286565035\n",
      "number of passes through disk (n) = 483394\n",
      "grind time = 2864369956897.896 seconds OR 90817.0563379168 years\n",
      "Processing time = 14.099919084707896 [min]  5.995145082473755  [sec]\n"
     ]
    },
    {
     "data": {
      "text/plain": [
       "90817.0563379168"
      ]
     },
     "execution_count": 6,
     "metadata": {},
     "output_type": "execute_result"
    }
   ],
   "source": [
    "Tcapture(45,1e3,'o_star', 500000,'SG','1e3_45_ostar_SG')"
   ]
  },
  {
   "cell_type": "code",
   "execution_count": 7,
   "metadata": {
    "collapsed": true
   },
   "outputs": [
    {
     "name": "stdout",
     "output_type": "stream",
     "text": [
      "condition1 = True condition2 = True condition3 = True\n",
      "n = 1 t_sum = 1120165798.1345024 seconds\n",
      "a = 1499984354090523.0 i = 0.7853951523029469\n",
      "condition1 = True condition2 = False condition3 = False\n",
      "final a = 402764205268977.1\n",
      "final i = 0.0046161833633093135\n",
      "number of passes through disk (n) = 249606\n",
      "grind time = 77818676101162.81 seconds OR 2467301.0812036404 years\n",
      "Processing time = 7.4279405991236365 [min]  25.676435947418213  [sec]\n"
     ]
    },
    {
     "data": {
      "text/plain": [
       "2467301.0812036404"
      ]
     },
     "execution_count": 7,
     "metadata": {},
     "output_type": "execute_result"
    }
   ],
   "source": [
    "Tcapture(45,1e4,'o_star', 500000,'SG','1e4_45_ostar_SG')"
   ]
  },
  {
   "cell_type": "code",
   "execution_count": null,
   "metadata": {},
   "outputs": [],
   "source": [
    "Tcapture(45,1e5,'o_star', 500000,'SG','1e5_45_ostar_SG')"
   ]
  },
  {
   "cell_type": "code",
   "execution_count": null,
   "metadata": {
    "scrolled": true
   },
   "outputs": [],
   "source": [
    "Tcapture(45,1e4,'o_star', 500000,'TQM','1e4_45_ostar_TQM')"
   ]
  },
  {
   "cell_type": "code",
   "execution_count": null,
   "metadata": {},
   "outputs": [],
   "source": []
  },
  {
   "cell_type": "code",
   "execution_count": 8,
   "metadata": {
    "collapsed": true
   },
   "outputs": [
    {
     "name": "stdout",
     "output_type": "stream",
     "text": [
      "condition1 = True condition2 = True condition3 = True\n",
      "n = 1 t_sum = 1120165.7981345023 seconds\n",
      "a = 14999947683137.244 i = 0.7853971565547266\n",
      "condition1 = True condition2 = True condition3 = True\n",
      "n = 500001 t_sum = 264704096772.952 seconds\n",
      "a = 6385460655372.25 i = 0.47274226901997507\n",
      "condition1 = True condition2 = True condition3 = True\n",
      "n = 1000001 t_sum = 393102568476.9048 seconds\n",
      "a = 5085792712357.658 i = 0.3386243719845734\n",
      "condition1 = True condition2 = True condition3 = False\n",
      "n = 1500001 t_sum = 494736140789.81006 seconds\n",
      "a = 4592297950785.553 i = 0.2548567662525772\n",
      "condition1 = True condition2 = True condition3 = False\n",
      "n = 2000001 t_sum = 585508048602.924 seconds\n",
      "a = 4350314119022.182 i = 0.19574152548720172\n",
      "condition1 = True condition2 = True condition3 = False\n",
      "n = 2500001 t_sum = 670806818832.528 seconds\n",
      "a = 4217580441661.2886 i = 0.15157050517080772\n",
      "condition1 = True condition2 = True condition3 = False\n",
      "n = 3000001 t_sum = 753077843070.6359 seconds\n",
      "a = 4141004088826.005 i = 0.11776124811977788\n",
      "condition1 = True condition2 = True condition3 = False\n",
      "n = 3500001 t_sum = 833594310592.9606 seconds\n",
      "a = 4095537906557.6714 i = 0.0914786525419957\n",
      "condition1 = True condition2 = True condition3 = False\n",
      "n = 4000001 t_sum = 913065909769.7231 seconds\n",
      "a = 4068044945975.653 i = 0.07076950753228582\n",
      "condition1 = True condition2 = True condition3 = False\n",
      "n = 4500001 t_sum = 991903290029.3789 seconds\n",
      "a = 4051133446372.4277 i = 0.054113724786189296\n",
      "condition1 = True condition2 = False condition3 = False\n",
      "final a = 4042492302693.1606\n",
      "final i = 0.04314565818845729\n",
      "number of passes through disk (n) = 4874132\n",
      "grind time = 1050626618545.7307 seconds OR 33310.926396503826 years\n",
      "Processing time = 169.86359388430913 [min]  51.815633058547974  [sec]\n"
     ]
    },
    {
     "data": {
      "text/plain": [
       "33310.926396503826"
      ]
     },
     "execution_count": 8,
     "metadata": {},
     "output_type": "execute_result"
    }
   ],
   "source": [
    "Tcapture(45,1e2,'g_star', 500000,'SG','1e2_45_gstar_SG')"
   ]
  },
  {
   "cell_type": "code",
   "execution_count": 9,
   "metadata": {
    "collapsed": true
   },
   "outputs": [
    {
     "name": "stdout",
     "output_type": "stream",
     "text": [
      "condition1 = True condition2 = True condition3 = True\n",
      "n = 1 t_sum = 35422752.791254185 seconds\n",
      "a = 149996881848450.72 i = 0.7853921623617822\n",
      "condition1 = True condition2 = True condition3 = False\n",
      "n = 500001 t_sum = 4406097456933.082 seconds\n",
      "a = 44177674831799.79 i = 0.21425443564051633\n",
      "condition1 = True condition2 = True condition3 = False\n",
      "n = 1000001 t_sum = 7050136183173.608 seconds\n",
      "a = 41076281837932.98 i = 0.09917671353607452\n",
      "condition1 = True condition2 = True condition3 = False\n",
      "n = 1500001 t_sum = 9552293632197.24 seconds\n",
      "a = 40451715619118.71 i = 0.04680789391660412\n",
      "condition1 = True condition2 = True condition3 = False\n",
      "n = 2000001 t_sum = 12024750482897.164 seconds\n",
      "a = 40312090129430.57 i = 0.021516976882106298\n",
      "condition1 = True condition2 = False condition3 = False\n",
      "final a = 40294638643200.88\n",
      "final i = 0.015700525875469405\n",
      "number of passes through disk (n) = 2175316\n",
      "grind time = 12889652698405.322 seconds OR 408676.369638723 years\n",
      "Processing time = 77.74275918006897 [min]  44.565550804138184  [sec]\n"
     ]
    },
    {
     "data": {
      "text/plain": [
       "408676.369638723"
      ]
     },
     "execution_count": 9,
     "metadata": {},
     "output_type": "execute_result"
    }
   ],
   "source": [
    "Tcapture(45,1e3,'g_star', 500000,'SG','1e3_45_gstar_SG')"
   ]
  },
  {
   "cell_type": "code",
   "execution_count": 10,
   "metadata": {
    "collapsed": true
   },
   "outputs": [
    {
     "name": "stdout",
     "output_type": "stream",
     "text": [
      "condition1 = True condition2 = True condition3 = True\n",
      "n = 1 t_sum = 1120165798.1345024 seconds\n",
      "a = 1499996523103020.2 i = 0.7853974942664449\n",
      "condition1 = True condition2 = True condition3 = False\n",
      "n = 500001 t_sum = 251046363511847.3 seconds\n",
      "a = 441325192121801.2 i = 0.21307868004742528\n",
      "condition1 = True condition2 = True condition3 = False\n",
      "n = 1000001 t_sum = 330973448729164.2 seconds\n",
      "a = 402840234497280.44 i = 0.010794245586941698\n",
      "condition1 = True condition2 = False condition3 = False\n",
      "final a = 402763533647172.0\n",
      "final i = 0.00461619805829547\n",
      "number of passes through disk (n) = 1123229\n",
      "grind time = 350181244859525.44 seconds OR 11102766.165489076 years\n",
      "Processing time = 33.61210546096166 [min]  36.726327657699585  [sec]\n"
     ]
    },
    {
     "data": {
      "text/plain": [
       "11102766.165489076"
      ]
     },
     "execution_count": 10,
     "metadata": {},
     "output_type": "execute_result"
    }
   ],
   "source": [
    "Tcapture(45,1e4,'g_star', 500000,'SG','1e4_45_gstar_SG')"
   ]
  },
  {
   "cell_type": "code",
   "execution_count": null,
   "metadata": {},
   "outputs": [],
   "source": [
    "Tcapture(45,1e5,'g_star', 500000,'SG','1e5_45_gstar_SG')"
   ]
  },
  {
   "cell_type": "code",
   "execution_count": null,
   "metadata": {},
   "outputs": [],
   "source": [
    "Tcapture(45,1e4,'g_star', 500000,'TQM','1e4_45_gstar_TQM')"
   ]
  },
  {
   "cell_type": "code",
   "execution_count": null,
   "metadata": {},
   "outputs": [],
   "source": []
  },
  {
   "cell_type": "code",
   "execution_count": null,
   "metadata": {},
   "outputs": [],
   "source": [
    "Tcapture(45,1e2,'m_star', 500000,'SG','1e2_45_mstar_SG')\n",
    "#Processing time = 2253.250212883949 [min]  15.012773036956787  [sec] via iPython"
   ]
  },
  {
   "cell_type": "code",
   "execution_count": null,
   "metadata": {},
   "outputs": [],
   "source": [
    "Tcapture(45,1e3,'m_star', 500000,'SG','1e3_45_mstar_SG')\n",
    "#Processing time = 272.0064301848412 [min]  0.38581109046936035  [sec] via iPython"
   ]
  },
  {
   "cell_type": "code",
   "execution_count": null,
   "metadata": {},
   "outputs": [],
   "source": [
    "Tcapture(45,1e4,'m_star', 500000,'SG','1e4_45_mstar_SG')"
   ]
  },
  {
   "cell_type": "code",
   "execution_count": null,
   "metadata": {},
   "outputs": [],
   "source": [
    "Tcapture(45,1e5,'m_star', 500000,'SG','1e5_45_mstar_SG')"
   ]
  },
  {
   "cell_type": "code",
   "execution_count": null,
   "metadata": {},
   "outputs": [],
   "source": [
    "Tcapture(45,1e4,'m_star', 500000,'TQM','1e4_45_mstar_TQM')"
   ]
  },
  {
   "cell_type": "code",
   "execution_count": 2,
   "metadata": {},
   "outputs": [
    {
     "name": "stdout",
     "output_type": "stream",
     "text": [
      "condition1 = True condition2 = False condition3 = False\n",
      "final a = 269821.789457921\n",
      "final i = 2.840342342571718\n",
      "number of passes through disk (n) = 101853\n",
      "grind time = 1268283808.9634383 years\n",
      "Processing time = 0.0 [hr]  3.0 [min]  35.126550912857056 [sec]\n"
     ]
    },
    {
     "data": {
      "text/plain": [
       "1268283808.9634383"
      ]
     },
     "execution_count": 2,
     "metadata": {},
     "output_type": "execute_result"
    }
   ],
   "source": [
    "Tcapture(45,1e6,'r_giant',100,'SG','1e6_45_rgiant_SG')"
   ]
  },
  {
   "cell_type": "code",
   "execution_count": 3,
   "metadata": {},
   "outputs": [
    {
     "name": "stdout",
     "output_type": "stream",
     "text": [
      "condition1 = True condition2 = False condition3 = False\n",
      "final a = 268501.0490314573\n",
      "final i = 0.11059789515650466\n",
      "number of passes through disk (n) = 247214\n",
      "grind time = 1843268132.7573662 years\n",
      "Processing time = 0.0 [hr]  5.0 [min]  10.567568063735962 [sec]\n"
     ]
    },
    {
     "data": {
      "text/plain": [
       "1843268132.7573662"
      ]
     },
     "execution_count": 3,
     "metadata": {},
     "output_type": "execute_result"
    }
   ],
   "source": [
    "Tcapture(45,1e6,'r_giant',100,'TQM','1e6_45_rgiant_TQM')"
   ]
  },
  {
   "cell_type": "code",
   "execution_count": null,
   "metadata": {},
   "outputs": [],
   "source": []
  },
  {
   "cell_type": "code",
   "execution_count": null,
   "metadata": {},
   "outputs": [],
   "source": []
  },
  {
   "cell_type": "code",
   "execution_count": null,
   "metadata": {},
   "outputs": [],
   "source": []
  },
  {
   "cell_type": "code",
   "execution_count": null,
   "metadata": {},
   "outputs": [],
   "source": []
  },
  {
   "cell_type": "code",
   "execution_count": null,
   "metadata": {},
   "outputs": [],
   "source": []
  },
  {
   "cell_type": "code",
   "execution_count": null,
   "metadata": {},
   "outputs": [],
   "source": []
  }
 ],
 "metadata": {
  "kernelspec": {
   "display_name": "Python 3",
   "language": "python",
   "name": "python3"
  },
  "language_info": {
   "codemirror_mode": {
    "name": "ipython",
    "version": 3
   },
   "file_extension": ".py",
   "mimetype": "text/x-python",
   "name": "python",
   "nbconvert_exporter": "python",
   "pygments_lexer": "ipython3",
   "version": "3.8.3"
  }
 },
 "nbformat": 4,
 "nbformat_minor": 2
}
