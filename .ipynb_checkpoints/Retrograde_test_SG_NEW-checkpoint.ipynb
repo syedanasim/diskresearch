{
 "cells": [
  {
   "cell_type": "code",
   "execution_count": 1,
   "metadata": {},
   "outputs": [],
   "source": [
    "exec(open(\"functions_i_main.py\").read())"
   ]
  },
  {
   "cell_type": "code",
   "execution_count": 38,
   "metadata": {},
   "outputs": [
    {
     "name": "stdout",
     "output_type": "stream",
     "text": [
      "condition1 = True condition2 = False condition3 = False\n",
      "final a = 9855.15334843839\n",
      "final i = 1.126450423778417\n",
      "number of passes through disk (n) = 90\n",
      "grind time = 3148.0274035107623 years\n",
      "Processing time = 0.0 [hr]  0.0 [min]  0.1237332820892334 [sec]\n"
     ]
    },
    {
     "data": {
      "text/plain": [
       "3148.0274035107623"
      ]
     },
     "execution_count": 38,
     "metadata": {},
     "output_type": "execute_result"
    }
   ],
   "source": [
    "Tcapture(5,1e4,'r_giant', 1,'SG','1e4_5_rgiant_SG')"
   ]
  },
  {
   "cell_type": "code",
   "execution_count": 39,
   "metadata": {},
   "outputs": [
    {
     "name": "stdout",
     "output_type": "stream",
     "text": [
      "condition1 = True condition2 = False condition3 = False\n",
      "final a = 8704.0675393102\n",
      "final i = 1.0359502593866212\n",
      "number of passes through disk (n) = 158\n",
      "grind time = 4756.5247651864 years\n",
      "Processing time = 0.0 [hr]  0.0 [min]  0.1987471580505371 [sec]\n"
     ]
    },
    {
     "data": {
      "text/plain": [
       "4756.5247651864"
      ]
     },
     "execution_count": 39,
     "metadata": {},
     "output_type": "execute_result"
    }
   ],
   "source": [
    "Tcapture(15,1e4,'r_giant', 1,'SG','1e4_15_rgiant_SG')"
   ]
  },
  {
   "cell_type": "code",
   "execution_count": 40,
   "metadata": {},
   "outputs": [
    {
     "name": "stdout",
     "output_type": "stream",
     "text": [
      "condition1 = True condition2 = False condition3 = False\n",
      "final a = 5654.183514445329\n",
      "final i = 0.7654936798779305\n",
      "number of passes through disk (n) = 125\n",
      "grind time = 2356.459058304547 years\n",
      "Processing time = 0.0 [hr]  0.0 [min]  0.156203031539917 [sec]\n"
     ]
    },
    {
     "data": {
      "text/plain": [
       "2356.459058304547"
      ]
     },
     "execution_count": 40,
     "metadata": {},
     "output_type": "execute_result"
    }
   ],
   "source": [
    "Tcapture(30,1e4,'r_giant', 1,'SG','1e4_30_rgiant_SG')"
   ]
  },
  {
   "cell_type": "code",
   "execution_count": 41,
   "metadata": {},
   "outputs": [
    {
     "name": "stdout",
     "output_type": "stream",
     "text": [
      "condition1 = True condition2 = False condition3 = False\n",
      "final a = 2701.5340433748456\n",
      "final i = 0.48490033807546323\n",
      "number of passes through disk (n) = 76\n",
      "grind time = 819.402370768494 years\n",
      "Processing time = 0.0 [hr]  0.0 [min]  0.10170412063598633 [sec]\n"
     ]
    },
    {
     "data": {
      "text/plain": [
       "819.402370768494"
      ]
     },
     "execution_count": 41,
     "metadata": {},
     "output_type": "execute_result"
    }
   ],
   "source": [
    "Tcapture(45,1e4,'r_giant', 1,'SG','1e4_45_rgiant_SG')"
   ]
  },
  {
   "cell_type": "code",
   "execution_count": 42,
   "metadata": {},
   "outputs": [
    {
     "name": "stdout",
     "output_type": "stream",
     "text": [
      "condition1 = True condition2 = False condition3 = False\n",
      "final a = 1010.899436461129\n",
      "final i = 0.4510025919750127\n",
      "number of passes through disk (n) = 49\n",
      "grind time = 400.1572120550512 years\n",
      "Processing time = 0.0 [hr]  0.0 [min]  0.06250810623168945 [sec]\n"
     ]
    },
    {
     "data": {
      "text/plain": [
       "400.1572120550512"
      ]
     },
     "execution_count": 42,
     "metadata": {},
     "output_type": "execute_result"
    }
   ],
   "source": [
    "Tcapture(60,1e4,'r_giant', 1,'SG','1e4_60_rgiant_SG')"
   ]
  },
  {
   "cell_type": "code",
   "execution_count": 43,
   "metadata": {},
   "outputs": [
    {
     "name": "stdout",
     "output_type": "stream",
     "text": [
      "condition1 = True condition2 = False condition3 = False\n",
      "final a = 268.1872044319544\n",
      "final i = 1.770532938035766\n",
      "number of passes through disk (n) = 143\n",
      "grind time = 300.60753870346906 years\n",
      "Processing time = 0.0 [hr]  0.0 [min]  0.18102502822875977 [sec]\n"
     ]
    },
    {
     "data": {
      "text/plain": [
       "300.60753870346906"
      ]
     },
     "execution_count": 43,
     "metadata": {},
     "output_type": "execute_result"
    }
   ],
   "source": [
    "Tcapture(80,1e4,'r_giant', 1,'SG','1e4_80_rgiant_SG')"
   ]
  },
  {
   "cell_type": "code",
   "execution_count": 44,
   "metadata": {},
   "outputs": [
    {
     "name": "stdout",
     "output_type": "stream",
     "text": [
      "condition1 = True condition2 = False condition3 = False\n",
      "final a = 148.32122709879843\n",
      "final i = 2.158663067791028\n",
      "number of passes through disk (n) = 193\n",
      "grind time = 283.08919388614925 years\n",
      "Processing time = 0.0 [hr]  0.0 [min]  0.2386019229888916 [sec]\n"
     ]
    },
    {
     "data": {
      "text/plain": [
       "283.08919388614925"
      ]
     },
     "execution_count": 44,
     "metadata": {},
     "output_type": "execute_result"
    }
   ],
   "source": [
    "Tcapture(90,1e4,'r_giant', 1,'SG','1e4_90_rgiant_SG')"
   ]
  },
  {
   "cell_type": "code",
   "execution_count": 45,
   "metadata": {},
   "outputs": [
    {
     "name": "stdout",
     "output_type": "stream",
     "text": [
      "condition1 = True condition2 = False condition3 = False\n",
      "final a = 89.67906199905006\n",
      "final i = 2.0160638960699844\n",
      "number of passes through disk (n) = 169\n",
      "grind time = 274.5274332120876 years\n",
      "Processing time = 0.0 [hr]  0.0 [min]  0.21031689643859863 [sec]\n"
     ]
    },
    {
     "data": {
      "text/plain": [
       "274.5274332120876"
      ]
     },
     "execution_count": 45,
     "metadata": {},
     "output_type": "execute_result"
    }
   ],
   "source": [
    "Tcapture(100,1e4,'r_giant', 1,'SG','1e4_100_rgiant_SG')"
   ]
  },
  {
   "cell_type": "code",
   "execution_count": 46,
   "metadata": {},
   "outputs": [
    {
     "name": "stdout",
     "output_type": "stream",
     "text": [
      "condition1 = True condition2 = False condition3 = False\n",
      "final a = 39.02216894347087\n",
      "final i = 3.6766772328711776\n",
      "number of passes through disk (n) = 234\n",
      "grind time = 223.73628999330654 years\n",
      "Processing time = 0.0 [hr]  0.0 [min]  0.2859208583831787 [sec]\n"
     ]
    },
    {
     "data": {
      "text/plain": [
       "223.73628999330654"
      ]
     },
     "execution_count": 46,
     "metadata": {},
     "output_type": "execute_result"
    }
   ],
   "source": [
    "Tcapture(120,1e4,'r_giant', 1,'SG','1e4_120_rgiant_SG')"
   ]
  },
  {
   "cell_type": "code",
   "execution_count": 47,
   "metadata": {},
   "outputs": [
    {
     "name": "stdout",
     "output_type": "stream",
     "text": [
      "condition1 = True condition2 = False condition3 = False\n",
      "final a = 17.864335102370006\n",
      "final i = 6.8635213641239705\n",
      "number of passes through disk (n) = 398\n",
      "grind time = 138.3977686338775 years\n",
      "Processing time = 0.0 [hr]  0.0 [min]  0.47400498390197754 [sec]\n"
     ]
    },
    {
     "data": {
      "text/plain": [
       "138.3977686338775"
      ]
     },
     "execution_count": 47,
     "metadata": {},
     "output_type": "execute_result"
    }
   ],
   "source": [
    "Tcapture(135,1e4,'r_giant', 1,'SG','1e4_135_rgiant_SG')"
   ]
  },
  {
   "cell_type": "code",
   "execution_count": 48,
   "metadata": {},
   "outputs": [
    {
     "name": "stdout",
     "output_type": "stream",
     "text": [
      "condition1 = True condition2 = False condition3 = False\n",
      "final a = 6.129070429700459\n",
      "final i = 12.805520566968562\n",
      "number of passes through disk (n) = 864\n",
      "grind time = 85.39006492026216 years\n",
      "Processing time = 0.0 [hr]  0.0 [min]  1.0234191417694092 [sec]\n"
     ]
    },
    {
     "data": {
      "text/plain": [
       "85.39006492026216"
      ]
     },
     "execution_count": 48,
     "metadata": {},
     "output_type": "execute_result"
    }
   ],
   "source": [
    "Tcapture(150,1e4,'r_giant', 1,'SG','1e4_150_rgiant_SG')"
   ]
  },
  {
   "cell_type": "code",
   "execution_count": 49,
   "metadata": {},
   "outputs": [
    {
     "name": "stdout",
     "output_type": "stream",
     "text": [
      "condition1 = False condition2 = True condition3 = False\n",
      "final a = 5.190598719346919\n",
      "final i = 21.313277439381924\n",
      "number of passes through disk (n) = 704\n",
      "grind time = 56.01991698267371 years\n",
      "Processing time = 0.0 [hr]  0.0 [min]  0.8462867736816406 [sec]\n"
     ]
    },
    {
     "data": {
      "text/plain": [
       "56.01991698267371"
      ]
     },
     "execution_count": 49,
     "metadata": {},
     "output_type": "execute_result"
    }
   ],
   "source": [
    "Tcapture(165,1e4,'r_giant', 1,'SG','1e4_165_rgiant_SG')"
   ]
  },
  {
   "cell_type": "code",
   "execution_count": 50,
   "metadata": {},
   "outputs": [
    {
     "name": "stdout",
     "output_type": "stream",
     "text": [
      "condition1 = True condition2 = False condition3 = False\n",
      "final a = 92.08304228086412\n",
      "final i = 2.0105530544151375\n",
      "number of passes through disk (n) = 154\n",
      "grind time = 49.55705694952677 years\n",
      "Processing time = 0.0 [hr]  0.0 [min]  0.19177913665771484 [sec]\n"
     ]
    },
    {
     "data": {
      "text/plain": [
       "49.55705694952677"
      ]
     },
     "execution_count": 50,
     "metadata": {},
     "output_type": "execute_result"
    }
   ],
   "source": [
    "Tcapture(175,1e4,'r_giant', 1,'SG','1e4_175_rgiant_SG')"
   ]
  },
  {
   "cell_type": "code",
   "execution_count": null,
   "metadata": {},
   "outputs": [],
   "source": []
  },
  {
   "cell_type": "code",
   "execution_count": null,
   "metadata": {},
   "outputs": [],
   "source": []
  },
  {
   "cell_type": "code",
   "execution_count": 52,
   "metadata": {},
   "outputs": [
    {
     "name": "stdout",
     "output_type": "stream",
     "text": [
      "condition1 = False condition2 = True condition3 = True\n",
      "final a = 5.191702044044441\n",
      "final i = 32.22146621561143\n",
      "number of passes through disk (n) = 308\n",
      "grind time = 0.2007586034346186 years\n",
      "Processing time = 0.0 [hr]  0.0 [min]  0.3648099899291992 [sec]\n"
     ]
    },
    {
     "data": {
      "text/plain": [
       "0.2007586034346186"
      ]
     },
     "execution_count": 52,
     "metadata": {},
     "output_type": "execute_result"
    }
   ],
   "source": [
    "Tcapture(45,1e1,'r_giant', 1,'SG','1e1_45_rgiant_SG')"
   ]
  },
  {
   "cell_type": "code",
   "execution_count": 53,
   "metadata": {},
   "outputs": [
    {
     "name": "stdout",
     "output_type": "stream",
     "text": [
      "condition1 = True condition2 = False condition3 = False\n",
      "final a = 27.509559830026284\n",
      "final i = 4.86197537002444\n",
      "number of passes through disk (n) = 257\n",
      "grind time = 1.9784914930659407 years\n",
      "Processing time = 0.0 [hr]  0.0 [min]  0.3154120445251465 [sec]\n"
     ]
    },
    {
     "data": {
      "text/plain": [
       "1.9784914930659407"
      ]
     },
     "execution_count": 53,
     "metadata": {},
     "output_type": "execute_result"
    }
   ],
   "source": [
    "Tcapture(45,1e2,'r_giant', 1,'SG','1e2_45_rgiant_SG')"
   ]
  },
  {
   "cell_type": "code",
   "execution_count": 54,
   "metadata": {},
   "outputs": [
    {
     "name": "stdout",
     "output_type": "stream",
     "text": [
      "condition1 = True condition2 = False condition3 = False\n",
      "final a = 284.3470653564764\n",
      "final i = 1.6867867009070023\n",
      "number of passes through disk (n) = 118\n",
      "grind time = 25.210180771219125 years\n",
      "Processing time = 0.0 [hr]  0.0 [min]  0.15552496910095215 [sec]\n"
     ]
    },
    {
     "data": {
      "text/plain": [
       "25.210180771219125"
      ]
     },
     "execution_count": 54,
     "metadata": {},
     "output_type": "execute_result"
    }
   ],
   "source": [
    "Tcapture(45,1e3,'r_giant', 1,'SG','1e3_45_rgiant_SG')"
   ]
  },
  {
   "cell_type": "code",
   "execution_count": 55,
   "metadata": {},
   "outputs": [
    {
     "name": "stdout",
     "output_type": "stream",
     "text": [
      "condition1 = True condition2 = False condition3 = False\n",
      "final a = 26912.32873890197\n",
      "final i = 1.8604040241064064\n",
      "number of passes through disk (n) = 1604\n",
      "grind time = 641382.8957360167 years\n",
      "Processing time = 0.0 [hr]  0.0 [min]  2.016005039215088 [sec]\n"
     ]
    },
    {
     "data": {
      "text/plain": [
       "641382.8957360167"
      ]
     },
     "execution_count": 55,
     "metadata": {},
     "output_type": "execute_result"
    }
   ],
   "source": [
    "Tcapture(45,1e5,'r_giant', 1,'SG','1e5_45_rgiant_SG')"
   ]
  },
  {
   "cell_type": "code",
   "execution_count": 56,
   "metadata": {},
   "outputs": [
    {
     "name": "stdout",
     "output_type": "stream",
     "text": [
      "condition1 = True condition2 = False condition3 = False\n",
      "final a = 273945.901528937\n",
      "final i = 5.7364211621543335\n",
      "number of passes through disk (n) = 42103\n",
      "grind time = 585547168.3856672 years\n",
      "Processing time = 0.0 [hr]  0.0 [min]  52.958528995513916 [sec]\n"
     ]
    },
    {
     "data": {
      "text/plain": [
       "585547168.3856672"
      ]
     },
     "execution_count": 56,
     "metadata": {},
     "output_type": "execute_result"
    }
   ],
   "source": [
    "Tcapture(45,1e6,'r_giant', 1,'SG','1e6_45_rgiant_SG')"
   ]
  },
  {
   "cell_type": "code",
   "execution_count": 57,
   "metadata": {},
   "outputs": [
    {
     "name": "stdout",
     "output_type": "stream",
     "text": [
      "condition1 = True condition2 = False condition3 = True\n",
      "final a = 3715766.465390045\n",
      "final i = 22.830368260944535\n",
      "number of passes through disk (n) = 688573\n",
      "grind time = 438927900026.659 years\n",
      "Processing time = 0.0 [hr]  14.0 [min]  33.26804995536804 [sec]\n"
     ]
    },
    {
     "data": {
      "text/plain": [
       "438927900026.659"
      ]
     },
     "execution_count": 57,
     "metadata": {},
     "output_type": "execute_result"
    }
   ],
   "source": [
    "Tcapture(45,1e7,'r_giant', 1,'SG','1e7_45_rgiant_SG')"
   ]
  },
  {
   "cell_type": "code",
   "execution_count": null,
   "metadata": {},
   "outputs": [],
   "source": []
  },
  {
   "cell_type": "code",
   "execution_count": 58,
   "metadata": {},
   "outputs": [
    {
     "name": "stdout",
     "output_type": "stream",
     "text": [
      "condition1 = False condition2 = True condition3 = True\n",
      "final a = 5.1852264385061\n",
      "final i = 126.2347730033991\n",
      "number of passes through disk (n) = 50\n",
      "grind time = 0.033207522771267886 years\n",
      "Processing time = 0.0 [hr]  0.0 [min]  0.0635981559753418 [sec]\n"
     ]
    },
    {
     "data": {
      "text/plain": [
       "0.033207522771267886"
      ]
     },
     "execution_count": 58,
     "metadata": {},
     "output_type": "execute_result"
    }
   ],
   "source": [
    "Tcapture(135,1e1,'r_giant', 1,'SG','1e1_135_rgiant_SG')"
   ]
  },
  {
   "cell_type": "code",
   "execution_count": 59,
   "metadata": {},
   "outputs": [
    {
     "name": "stdout",
     "output_type": "stream",
     "text": [
      "condition1 = False condition2 = True condition3 = True\n",
      "final a = 5.172612457220628\n",
      "final i = 85.42669197239996\n",
      "number of passes through disk (n) = 209\n",
      "grind time = 0.42650449878580854 years\n",
      "Processing time = 0.0 [hr]  0.0 [min]  0.2789750099182129 [sec]\n"
     ]
    },
    {
     "data": {
      "text/plain": [
       "0.42650449878580854"
      ]
     },
     "execution_count": 59,
     "metadata": {},
     "output_type": "execute_result"
    }
   ],
   "source": [
    "Tcapture(135,1e2,'r_giant', 1,'SG','1e2_135_rgiant_SG')"
   ]
  },
  {
   "cell_type": "code",
   "execution_count": 60,
   "metadata": {},
   "outputs": [
    {
     "name": "stdout",
     "output_type": "stream",
     "text": [
      "condition1 = False condition2 = True condition3 = False\n",
      "final a = 5.185484214495404\n",
      "final i = 41.33730656791323\n",
      "number of passes through disk (n) = 378\n",
      "grind time = 3.8466972143771554 years\n",
      "Processing time = 0.0 [hr]  0.0 [min]  0.4430081844329834 [sec]\n"
     ]
    },
    {
     "data": {
      "text/plain": [
       "3.8466972143771554"
      ]
     },
     "execution_count": 60,
     "metadata": {},
     "output_type": "execute_result"
    }
   ],
   "source": [
    "Tcapture(135,1e3,'r_giant', 1,'SG','1e3_135_rgiant_SG')"
   ]
  },
  {
   "cell_type": "code",
   "execution_count": 61,
   "metadata": {},
   "outputs": [
    {
     "name": "stdout",
     "output_type": "stream",
     "text": [
      "condition1 = True condition2 = False condition3 = False\n",
      "final a = 106.62412836286865\n",
      "final i = 2.061125657498751\n",
      "number of passes through disk (n) = 348\n",
      "grind time = 88429.19295967057 years\n",
      "Processing time = 0.0 [hr]  0.0 [min]  0.4532196521759033 [sec]\n"
     ]
    },
    {
     "data": {
      "text/plain": [
       "88429.19295967057"
      ]
     },
     "execution_count": 61,
     "metadata": {},
     "output_type": "execute_result"
    }
   ],
   "source": [
    "Tcapture(135,1e5,'r_giant', 1,'SG','1e5_135_rgiant_SG')"
   ]
  },
  {
   "cell_type": "code",
   "execution_count": 62,
   "metadata": {},
   "outputs": [
    {
     "name": "stdout",
     "output_type": "stream",
     "text": [
      "condition1 = True condition2 = False condition3 = False\n",
      "final a = 652.9438760325447\n",
      "final i = 0.6143315564199416\n",
      "number of passes through disk (n) = 6068\n",
      "grind time = 85808562.02301908 years\n",
      "Processing time = 0.0 [hr]  0.0 [min]  7.754549026489258 [sec]\n"
     ]
    },
    {
     "data": {
      "text/plain": [
       "85808562.02301908"
      ]
     },
     "execution_count": 62,
     "metadata": {},
     "output_type": "execute_result"
    }
   ],
   "source": [
    "Tcapture(135,1e6,'r_giant', 1,'SG','1e6_135_rgiant_SG')"
   ]
  },
  {
   "cell_type": "code",
   "execution_count": 63,
   "metadata": {},
   "outputs": [
    {
     "name": "stdout",
     "output_type": "stream",
     "text": [
      "condition1 = True condition2 = False condition3 = False\n",
      "final a = 5505.771302578877\n",
      "final i = 0.7364344428535509\n",
      "number of passes through disk (n) = 178416\n",
      "grind time = 82091737224.72656 years\n",
      "Processing time = 0.0 [hr]  3.0 [min]  39.11198902130127 [sec]\n"
     ]
    },
    {
     "data": {
      "text/plain": [
       "82091737224.72656"
      ]
     },
     "execution_count": 63,
     "metadata": {},
     "output_type": "execute_result"
    }
   ],
   "source": [
    "Tcapture(135,1e7,'r_giant', 1,'SG','1e7_135_rgiant_SG')"
   ]
  },
  {
   "cell_type": "code",
   "execution_count": null,
   "metadata": {},
   "outputs": [],
   "source": []
  },
  {
   "cell_type": "code",
   "execution_count": null,
   "metadata": {},
   "outputs": [],
   "source": []
  },
  {
   "cell_type": "code",
   "execution_count": null,
   "metadata": {},
   "outputs": [],
   "source": []
  },
  {
   "cell_type": "code",
   "execution_count": null,
   "metadata": {},
   "outputs": [],
   "source": []
  },
  {
   "cell_type": "code",
   "execution_count": null,
   "metadata": {},
   "outputs": [],
   "source": []
  },
  {
   "cell_type": "code",
   "execution_count": null,
   "metadata": {},
   "outputs": [],
   "source": []
  },
  {
   "cell_type": "code",
   "execution_count": null,
   "metadata": {},
   "outputs": [],
   "source": []
  },
  {
   "cell_type": "code",
   "execution_count": 51,
   "metadata": {},
   "outputs": [
    {
     "name": "stdout",
     "output_type": "stream",
     "text": [
      "condition1 = True condition2 = False condition3 = False\n",
      "final a = 1182.4537141406631\n",
      "final i = 0.44551525518110924\n",
      "number of passes through disk (n) = 11\n",
      "grind time = 49.98043622461785 years\n",
      "Processing time = 0.0 [hr]  0.0 [min]  0.014068126678466797 [sec]\n"
     ]
    },
    {
     "data": {
      "text/plain": [
       "49.98043622461785"
      ]
     },
     "execution_count": 51,
     "metadata": {},
     "output_type": "execute_result"
    }
   ],
   "source": [
    "Tcapture(178,1e4,'r_giant', 1,'SG','1e4_179_rgiant_SG')"
   ]
  },
  {
   "cell_type": "code",
   "execution_count": 16,
   "metadata": {},
   "outputs": [
    {
     "data": {
      "text/plain": [
       "0.00803230201883442"
      ]
     },
     "execution_count": 16,
     "metadata": {},
     "output_type": "execute_result"
    }
   ],
   "source": [
    "imin(1182.4537141406631*Rg,hint_SG)"
   ]
  },
  {
   "cell_type": "code",
   "execution_count": 17,
   "metadata": {},
   "outputs": [
    {
     "data": {
      "text/plain": [
       "0.00803230201883442"
      ]
     },
     "execution_count": 17,
     "metadata": {},
     "output_type": "execute_result"
    }
   ],
   "source": [
    "imin(1182.4537141406631*Rg,hint_SG)"
   ]
  },
  {
   "cell_type": "code",
   "execution_count": null,
   "metadata": {},
   "outputs": [],
   "source": []
  },
  {
   "cell_type": "code",
   "execution_count": null,
   "metadata": {},
   "outputs": [],
   "source": []
  },
  {
   "cell_type": "code",
   "execution_count": null,
   "metadata": {},
   "outputs": [],
   "source": []
  },
  {
   "cell_type": "code",
   "execution_count": null,
   "metadata": {},
   "outputs": [],
   "source": []
  },
  {
   "cell_type": "code",
   "execution_count": null,
   "metadata": {},
   "outputs": [],
   "source": []
  },
  {
   "cell_type": "code",
   "execution_count": 18,
   "metadata": {},
   "outputs": [
    {
     "name": "stdout",
     "output_type": "stream",
     "text": [
      "condition1 = False condition2 = True condition3 = True\n",
      "final a = 5.172612457220628\n",
      "final i = 85.42669197239996\n",
      "number of passes through disk (n) = 209\n",
      "grind time = 0.42650449878580854 years\n",
      "Processing time = 0.0 [hr]  0.0 [min]  0.2522900104522705 [sec]\n"
     ]
    },
    {
     "data": {
      "text/plain": [
       "0.42650449878580854"
      ]
     },
     "execution_count": 18,
     "metadata": {},
     "output_type": "execute_result"
    }
   ],
   "source": [
    "Tcapture(135,1e2,'r_giant', 50,'SG','1e2_135_rgiant_SG')"
   ]
  },
  {
   "cell_type": "code",
   "execution_count": 19,
   "metadata": {},
   "outputs": [
    {
     "name": "stdout",
     "output_type": "stream",
     "text": [
      "condition1 = True condition2 = False condition3 = False\n",
      "final a = 148.32122709879843\n",
      "final i = 2.158663067791028\n",
      "number of passes through disk (n) = 193\n",
      "grind time = 283.08919388614925 years\n",
      "Processing time = 0.0 [hr]  0.0 [min]  0.25113892555236816 [sec]\n"
     ]
    },
    {
     "data": {
      "text/plain": [
       "283.08919388614925"
      ]
     },
     "execution_count": 19,
     "metadata": {},
     "output_type": "execute_result"
    }
   ],
   "source": [
    "Tcapture(90,1e4,'r_giant', 50,'SG','1e4_90_rgiant_SG')"
   ]
  },
  {
   "cell_type": "code",
   "execution_count": 20,
   "metadata": {},
   "outputs": [
    {
     "name": "stdout",
     "output_type": "stream",
     "text": [
      "condition1 = False condition2 = True condition3 = True\n",
      "final a = 5.183407927037952\n",
      "final i = 50.17072893142519\n",
      "number of passes through disk (n) = 296\n",
      "grind time = 0.6644619875065398 years\n",
      "Processing time = 0.0 [hr]  0.0 [min]  0.3771340847015381 [sec]\n"
     ]
    },
    {
     "data": {
      "text/plain": [
       "0.6644619875065398"
      ]
     },
     "execution_count": 20,
     "metadata": {},
     "output_type": "execute_result"
    }
   ],
   "source": [
    "Tcapture(89,1e2,'r_giant', 50,'SG','1e2_89_rgiant_SG')"
   ]
  },
  {
   "cell_type": "code",
   "execution_count": 21,
   "metadata": {},
   "outputs": [
    {
     "name": "stdout",
     "output_type": "stream",
     "text": [
      "condition1 = False condition2 = True condition3 = True\n",
      "final a = 5.187742195850435\n",
      "final i = 52.182058659658736\n",
      "number of passes through disk (n) = 285\n",
      "grind time = 0.6519187135804303 years\n",
      "Processing time = 0.0 [hr]  0.0 [min]  0.3608520030975342 [sec]\n"
     ]
    },
    {
     "data": {
      "text/plain": [
       "0.6519187135804303"
      ]
     },
     "execution_count": 21,
     "metadata": {},
     "output_type": "execute_result"
    }
   ],
   "source": [
    "Tcapture(91,1e2,'r_giant', 50,'SG','1e2_91_rgiant_SG')"
   ]
  },
  {
   "cell_type": "code",
   "execution_count": null,
   "metadata": {},
   "outputs": [],
   "source": []
  },
  {
   "cell_type": "code",
   "execution_count": 22,
   "metadata": {},
   "outputs": [
    {
     "name": "stdout",
     "output_type": "stream",
     "text": [
      "condition1 = True condition2 = False condition3 = False\n",
      "final a = 89.67906199905006\n",
      "final i = 2.0160638960699844\n",
      "number of passes through disk (n) = 169\n",
      "grind time = 274.5274332120876 years\n",
      "Processing time = 0.0 [hr]  0.0 [min]  0.2219982147216797 [sec]\n"
     ]
    },
    {
     "data": {
      "text/plain": [
       "274.5274332120876"
      ]
     },
     "execution_count": 22,
     "metadata": {},
     "output_type": "execute_result"
    }
   ],
   "source": [
    "Tcapture(100,1e4,'r_giant', 50,'SG','1e4_100_rgiant_SG')"
   ]
  },
  {
   "cell_type": "code",
   "execution_count": 23,
   "metadata": {},
   "outputs": [
    {
     "name": "stdout",
     "output_type": "stream",
     "text": [
      "condition1 = True condition2 = False condition3 = False\n",
      "final a = 39.02216894347087\n",
      "final i = 3.6766772328711776\n",
      "number of passes through disk (n) = 234\n",
      "grind time = 223.73628999330654 years\n",
      "Processing time = 0.0 [hr]  0.0 [min]  0.30253100395202637 [sec]\n"
     ]
    },
    {
     "data": {
      "text/plain": [
       "223.73628999330654"
      ]
     },
     "execution_count": 23,
     "metadata": {},
     "output_type": "execute_result"
    }
   ],
   "source": [
    "Tcapture(120,1e4,'r_giant', 50,'SG','1e4_120_rgiant_SG')"
   ]
  },
  {
   "cell_type": "code",
   "execution_count": 24,
   "metadata": {},
   "outputs": [
    {
     "name": "stdout",
     "output_type": "stream",
     "text": [
      "condition1 = True condition2 = False condition3 = False\n",
      "final a = 17.864335102370006\n",
      "final i = 6.8635213641239705\n",
      "number of passes through disk (n) = 398\n",
      "grind time = 138.3977686338775 years\n",
      "Processing time = 0.0 [hr]  0.0 [min]  0.5262727737426758 [sec]\n"
     ]
    },
    {
     "data": {
      "text/plain": [
       "138.3977686338775"
      ]
     },
     "execution_count": 24,
     "metadata": {},
     "output_type": "execute_result"
    }
   ],
   "source": [
    "Tcapture(135,1e4,'r_giant', 50,'SG','1e4_135_rgiant_SG')"
   ]
  },
  {
   "cell_type": "code",
   "execution_count": null,
   "metadata": {},
   "outputs": [],
   "source": []
  },
  {
   "cell_type": "code",
   "execution_count": null,
   "metadata": {},
   "outputs": [],
   "source": []
  },
  {
   "cell_type": "code",
   "execution_count": null,
   "metadata": {},
   "outputs": [],
   "source": []
  },
  {
   "cell_type": "code",
   "execution_count": 25,
   "metadata": {
    "scrolled": true
   },
   "outputs": [
    {
     "name": "stdout",
     "output_type": "stream",
     "text": [
      "condition1 = True condition2 = False condition3 = False\n",
      "final a = 17.864335102370006\n",
      "final i = 6.8635213641239705\n",
      "number of passes through disk (n) = 398\n",
      "grind time = 138.3977686338775 years\n",
      "Processing time = 0.0 [hr]  0.0 [min]  0.48296284675598145 [sec]\n"
     ]
    },
    {
     "data": {
      "text/plain": [
       "138.3977686338775"
      ]
     },
     "execution_count": 25,
     "metadata": {},
     "output_type": "execute_result"
    }
   ],
   "source": [
    "Tcapture(135,1e4,'r_giant', 1,'SG','1e4_135_rgiant_SG') #more data"
   ]
  },
  {
   "cell_type": "code",
   "execution_count": 26,
   "metadata": {},
   "outputs": [
    {
     "name": "stdout",
     "output_type": "stream",
     "text": [
      "condition1 = True condition2 = False condition3 = False\n",
      "final a = 17.864335102370102\n",
      "final i = -6.863521364123835\n",
      "number of passes through disk (n) = 398\n",
      "grind time = 138.3977686338775 years\n",
      "Processing time = 0.0 [hr]  0.0 [min]  0.508051872253418 [sec]\n"
     ]
    },
    {
     "data": {
      "text/plain": [
       "138.3977686338775"
      ]
     },
     "execution_count": 26,
     "metadata": {},
     "output_type": "execute_result"
    }
   ],
   "source": [
    "Tcapture(-135,1e4,'r_giant', 1,'SG','1e4_n135_rgiant_SG') #more data"
   ]
  },
  {
   "cell_type": "code",
   "execution_count": null,
   "metadata": {},
   "outputs": [],
   "source": []
  },
  {
   "cell_type": "code",
   "execution_count": 27,
   "metadata": {},
   "outputs": [
    {
     "name": "stdout",
     "output_type": "stream",
     "text": [
      "condition1 = True condition2 = False condition3 = False\n",
      "final a = 18.756465396521275\n",
      "final i = 6.603098715971646\n",
      "number of passes through disk (n) = 385\n",
      "grind time = 141.74474496508682 years\n",
      "Processing time = 0.0 [hr]  0.0 [min]  0.4913187026977539 [sec]\n"
     ]
    },
    {
     "data": {
      "text/plain": [
       "141.74474496508682"
      ]
     },
     "execution_count": 27,
     "metadata": {},
     "output_type": "execute_result"
    }
   ],
   "source": [
    "Tcapture(-225,1e4,'r_giant', 1,'SG','1e4_n225_rgiant_SG') #more data"
   ]
  },
  {
   "cell_type": "code",
   "execution_count": 28,
   "metadata": {},
   "outputs": [
    {
     "name": "stdout",
     "output_type": "stream",
     "text": [
      "condition1 = True condition2 = False condition3 = False\n",
      "final a = 18.75646539652132\n",
      "final i = -6.603098715971588\n",
      "number of passes through disk (n) = 385\n",
      "grind time = 141.7447449650868 years\n",
      "Processing time = 0.0 [hr]  0.0 [min]  0.48284482955932617 [sec]\n"
     ]
    },
    {
     "data": {
      "text/plain": [
       "141.7447449650868"
      ]
     },
     "execution_count": 28,
     "metadata": {},
     "output_type": "execute_result"
    }
   ],
   "source": [
    "Tcapture(225,1e4,'r_giant', 1,'SG','1e4_225_rgiant_SG') #more data"
   ]
  },
  {
   "cell_type": "code",
   "execution_count": null,
   "metadata": {},
   "outputs": [],
   "source": []
  },
  {
   "cell_type": "code",
   "execution_count": 29,
   "metadata": {
    "scrolled": true
   },
   "outputs": [
    {
     "name": "stdout",
     "output_type": "stream",
     "text": [
      "condition1 = True condition2 = False condition3 = False\n",
      "final a = 2701.5340433748456\n",
      "final i = -0.48490033807546323\n",
      "number of passes through disk (n) = 76\n",
      "grind time = 819.402370768494 years\n",
      "Processing time = 0.0 [hr]  0.0 [min]  0.11021113395690918 [sec]\n"
     ]
    },
    {
     "data": {
      "text/plain": [
       "819.402370768494"
      ]
     },
     "execution_count": 29,
     "metadata": {},
     "output_type": "execute_result"
    }
   ],
   "source": [
    "Tcapture(-45,1e4,'r_giant', 1,'SG','1e4_n45_rgiant_SG') #more data"
   ]
  },
  {
   "cell_type": "code",
   "execution_count": 30,
   "metadata": {},
   "outputs": [
    {
     "name": "stdout",
     "output_type": "stream",
     "text": [
      "condition1 = True condition2 = False condition3 = False\n",
      "final a = 2701.5340433748456\n",
      "final i = 0.48490033807546323\n",
      "number of passes through disk (n) = 76\n",
      "grind time = 819.402370768494 years\n",
      "Processing time = 0.0 [hr]  0.0 [min]  0.10738897323608398 [sec]\n"
     ]
    },
    {
     "data": {
      "text/plain": [
       "819.402370768494"
      ]
     },
     "execution_count": 30,
     "metadata": {},
     "output_type": "execute_result"
    }
   ],
   "source": [
    "Tcapture(45,1e4,'r_giant', 1,'SG','1e4_45_rgiant_SG') #more data"
   ]
  },
  {
   "cell_type": "code",
   "execution_count": 31,
   "metadata": {},
   "outputs": [],
   "source": [
    "exec(open(\"functions_i_main.py\").read())"
   ]
  },
  {
   "cell_type": "code",
   "execution_count": 32,
   "metadata": {},
   "outputs": [
    {
     "name": "stdout",
     "output_type": "stream",
     "text": [
      "condition1 = True condition2 = False condition3 = False\n",
      "final a = 27.509559830026284\n",
      "final i = 4.86197537002444\n",
      "number of passes through disk (n) = 257\n",
      "grind time = 1.9784914930659407 years\n",
      "Processing time = 0.0 [hr]  0.0 [min]  0.3400137424468994 [sec]\n"
     ]
    },
    {
     "data": {
      "text/plain": [
       "1.9784914930659407"
      ]
     },
     "execution_count": 32,
     "metadata": {},
     "output_type": "execute_result"
    }
   ],
   "source": [
    "Tcapture(45,1e2,'r_giant', 1,'SG','1e2_45_rgiant_SG')"
   ]
  },
  {
   "cell_type": "code",
   "execution_count": 33,
   "metadata": {},
   "outputs": [
    {
     "name": "stdout",
     "output_type": "stream",
     "text": [
      "condition1 = True condition2 = False condition3 = False\n",
      "final a = 27.509559830026284\n",
      "final i = -4.86197537002444\n",
      "number of passes through disk (n) = 257\n",
      "grind time = 1.9784914930659407 years\n",
      "Processing time = 0.0 [hr]  0.0 [min]  0.30644798278808594 [sec]\n"
     ]
    },
    {
     "data": {
      "text/plain": [
       "1.9784914930659407"
      ]
     },
     "execution_count": 33,
     "metadata": {},
     "output_type": "execute_result"
    }
   ],
   "source": [
    "Tcapture(-45,1e2,'r_giant', 1,'SG','1e2_n45_rgiant_SG')"
   ]
  },
  {
   "cell_type": "code",
   "execution_count": null,
   "metadata": {},
   "outputs": [],
   "source": []
  },
  {
   "cell_type": "code",
   "execution_count": 34,
   "metadata": {},
   "outputs": [
    {
     "name": "stdout",
     "output_type": "stream",
     "text": [
      "condition1 = True condition2 = False condition3 = False\n",
      "final a = 6.129070429700459\n",
      "final i = 12.805520566968562\n",
      "number of passes through disk (n) = 864\n",
      "grind time = 85.39006492026216 years\n",
      "Processing time = 0.0 [hr]  0.0 [min]  1.0887188911437988 [sec]\n"
     ]
    },
    {
     "data": {
      "text/plain": [
       "85.39006492026216"
      ]
     },
     "execution_count": 34,
     "metadata": {},
     "output_type": "execute_result"
    }
   ],
   "source": [
    "Tcapture(150,1e4,'r_giant', 50,'SG','1e4_150_rgiant_SG')"
   ]
  },
  {
   "cell_type": "code",
   "execution_count": 35,
   "metadata": {},
   "outputs": [
    {
     "name": "stdout",
     "output_type": "stream",
     "text": [
      "condition1 = False condition2 = True condition3 = False\n",
      "final a = 5.190598719346919\n",
      "final i = 21.313277439381924\n",
      "number of passes through disk (n) = 704\n",
      "grind time = 56.01991698267371 years\n",
      "Processing time = 0.0 [hr]  0.0 [min]  0.8522489070892334 [sec]\n"
     ]
    },
    {
     "data": {
      "text/plain": [
       "56.01991698267371"
      ]
     },
     "execution_count": 35,
     "metadata": {},
     "output_type": "execute_result"
    }
   ],
   "source": [
    "Tcapture(165,1e4,'r_giant', 50,'SG','1e4_165_rgiant_SG')"
   ]
  },
  {
   "cell_type": "code",
   "execution_count": 36,
   "metadata": {},
   "outputs": [
    {
     "name": "stdout",
     "output_type": "stream",
     "text": [
      "condition1 = True condition2 = False condition3 = False\n",
      "final a = 92.08304228086412\n",
      "final i = 2.0105530544151375\n",
      "number of passes through disk (n) = 154\n",
      "grind time = 49.55705694952677 years\n",
      "Processing time = 0.0 [hr]  0.0 [min]  0.1927189826965332 [sec]\n"
     ]
    },
    {
     "data": {
      "text/plain": [
       "49.55705694952677"
      ]
     },
     "execution_count": 36,
     "metadata": {},
     "output_type": "execute_result"
    }
   ],
   "source": [
    "Tcapture(175,1e4,'r_giant', 50,'SG','1e4_175_rgiant_SG')"
   ]
  },
  {
   "cell_type": "code",
   "execution_count": null,
   "metadata": {},
   "outputs": [],
   "source": []
  },
  {
   "cell_type": "code",
   "execution_count": null,
   "metadata": {},
   "outputs": [],
   "source": []
  },
  {
   "cell_type": "code",
   "execution_count": null,
   "metadata": {},
   "outputs": [],
   "source": []
  },
  {
   "cell_type": "code",
   "execution_count": null,
   "metadata": {},
   "outputs": [],
   "source": []
  },
  {
   "cell_type": "code",
   "execution_count": null,
   "metadata": {},
   "outputs": [],
   "source": []
  },
  {
   "cell_type": "code",
   "execution_count": null,
   "metadata": {},
   "outputs": [],
   "source": []
  },
  {
   "cell_type": "code",
   "execution_count": null,
   "metadata": {},
   "outputs": [],
   "source": []
  },
  {
   "cell_type": "code",
   "execution_count": null,
   "metadata": {},
   "outputs": [],
   "source": []
  },
  {
   "cell_type": "code",
   "execution_count": null,
   "metadata": {},
   "outputs": [],
   "source": []
  },
  {
   "cell_type": "code",
   "execution_count": null,
   "metadata": {},
   "outputs": [],
   "source": []
  },
  {
   "cell_type": "code",
   "execution_count": null,
   "metadata": {},
   "outputs": [],
   "source": []
  },
  {
   "cell_type": "code",
   "execution_count": null,
   "metadata": {},
   "outputs": [],
   "source": []
  },
  {
   "cell_type": "code",
   "execution_count": null,
   "metadata": {},
   "outputs": [],
   "source": []
  }
 ],
 "metadata": {
  "kernelspec": {
   "display_name": "Python 3",
   "language": "python",
   "name": "python3"
  },
  "language_info": {
   "codemirror_mode": {
    "name": "ipython",
    "version": 3
   },
   "file_extension": ".py",
   "mimetype": "text/x-python",
   "name": "python",
   "nbconvert_exporter": "python",
   "pygments_lexer": "ipython3",
   "version": "3.8.3"
  }
 },
 "nbformat": 4,
 "nbformat_minor": 4
}
