{
 "cells": [
  {
   "cell_type": "code",
   "execution_count": 1,
   "metadata": {},
   "outputs": [],
   "source": [
    "exec(open(\"functions_i_main.py\").read())"
   ]
  },
  {
   "cell_type": "code",
   "execution_count": 2,
   "metadata": {},
   "outputs": [
    {
     "name": "stdout",
     "output_type": "stream",
     "text": [
      "condition1 = True condition2 = False condition3 = False\n",
      "final a = 9848.6260765126\n",
      "final i = 0.015230652899838432\n",
      "number of passes through disk (n) = 18842\n",
      "grind time = 655384.1973416276 years\n",
      "Processing time = 0.0 [hr]  0.0 [min]  15.729336738586426 [sec]\n"
     ]
    },
    {
     "data": {
      "text/plain": [
       "655384.1973416276"
      ]
     },
     "execution_count": 2,
     "metadata": {},
     "output_type": "execute_result"
    }
   ],
   "source": [
    "Tcapture(5,1e4,'r_giant', 1,'TQM','1e4_5_rgiant_TQM')"
   ]
  },
  {
   "cell_type": "code",
   "execution_count": 3,
   "metadata": {},
   "outputs": [
    {
     "name": "stdout",
     "output_type": "stream",
     "text": [
      "condition1 = True condition2 = False condition3 = False\n",
      "final a = 9848.6260765126\n",
      "final i = 0.015230652899838432\n",
      "number of passes through disk (n) = 18842\n",
      "grind time = 655384.1973416276 years\n",
      "Processing time = 0.0 [hr]  0.0 [min]  15.472140789031982 [sec]\n"
     ]
    },
    {
     "data": {
      "text/plain": [
       "655384.1973416276"
      ]
     },
     "execution_count": 3,
     "metadata": {},
     "output_type": "execute_result"
    }
   ],
   "source": [
    "Tcapture(5,1e4,'r_giant', 1,'TQM','1e4_5_rgiant_TQM')"
   ]
  },
  {
   "cell_type": "code",
   "execution_count": 4,
   "metadata": {},
   "outputs": [
    {
     "name": "stdout",
     "output_type": "stream",
     "text": [
      "condition1 = True condition2 = False condition3 = False\n",
      "final a = 8705.925121890159\n",
      "final i = 0.014514107848351547\n",
      "number of passes through disk (n) = 20362\n",
      "grind time = 597541.200624255 years\n",
      "Processing time = 0.0 [hr]  0.0 [min]  18.173255920410156 [sec]\n"
     ]
    },
    {
     "data": {
      "text/plain": [
       "597541.200624255"
      ]
     },
     "execution_count": 4,
     "metadata": {},
     "output_type": "execute_result"
    }
   ],
   "source": [
    "Tcapture(15,1e4,'r_giant', 1,'TQM','1e4_15_rgiant_TQM')"
   ]
  },
  {
   "cell_type": "code",
   "execution_count": 5,
   "metadata": {},
   "outputs": [
    {
     "name": "stdout",
     "output_type": "stream",
     "text": [
      "condition1 = True condition2 = False condition3 = False\n",
      "final a = 5663.378559097255\n",
      "final i = 0.01309835438318194\n",
      "number of passes through disk (n) = 17451\n",
      "grind time = 287946.12075156375 years\n",
      "Processing time = 0.0 [hr]  0.0 [min]  15.535439014434814 [sec]\n"
     ]
    },
    {
     "data": {
      "text/plain": [
       "287946.12075156375"
      ]
     },
     "execution_count": 5,
     "metadata": {},
     "output_type": "execute_result"
    }
   ],
   "source": [
    "Tcapture(30,1e4,'r_giant', 1,'TQM','1e4_30_rgiant_TQM')"
   ]
  },
  {
   "cell_type": "code",
   "execution_count": 6,
   "metadata": {},
   "outputs": [
    {
     "name": "stdout",
     "output_type": "stream",
     "text": [
      "condition1 = True condition2 = False condition3 = False\n",
      "final a = 2685.607149049939\n",
      "final i = 0.28175651390972395\n",
      "number of passes through disk (n) = 145795\n",
      "grind time = 817133.2315389926 years\n",
      "Processing time = 0.0 [hr]  2.0 [min]  4.871868133544922 [sec]\n"
     ]
    },
    {
     "data": {
      "text/plain": [
       "817133.2315389926"
      ]
     },
     "execution_count": 6,
     "metadata": {},
     "output_type": "execute_result"
    }
   ],
   "source": [
    "Tcapture(45,1e4,'r_giant', 1,'TQM','1e4_45_rgiant_TQM')"
   ]
  },
  {
   "cell_type": "code",
   "execution_count": 7,
   "metadata": {},
   "outputs": [
    {
     "name": "stdout",
     "output_type": "stream",
     "text": [
      "condition1 = True condition2 = False condition3 = False\n",
      "final a = 941.2271320477931\n",
      "final i = 0.7831910681137713\n",
      "number of passes through disk (n) = 210302\n",
      "grind time = 337469.08744537964 years\n",
      "Processing time = 0.0 [hr]  2.0 [min]  58.78522300720215 [sec]\n"
     ]
    },
    {
     "data": {
      "text/plain": [
       "337469.08744537964"
      ]
     },
     "execution_count": 7,
     "metadata": {},
     "output_type": "execute_result"
    }
   ],
   "source": [
    "Tcapture(60,1e4,'r_giant', 1,'TQM','1e4_60_rgiant_TQM')"
   ]
  },
  {
   "cell_type": "code",
   "execution_count": 8,
   "metadata": {},
   "outputs": [
    {
     "name": "stdout",
     "output_type": "stream",
     "text": [
      "condition1 = True condition2 = False condition3 = False\n",
      "final a = 185.91699451855987\n",
      "final i = 4.269754248629808\n",
      "number of passes through disk (n) = 288303\n",
      "grind time = 125371.31635609345 years\n",
      "Processing time = 0.0 [hr]  3.0 [min]  58.55363988876343 [sec]\n"
     ]
    },
    {
     "data": {
      "text/plain": [
       "125371.31635609345"
      ]
     },
     "execution_count": 8,
     "metadata": {},
     "output_type": "execute_result"
    }
   ],
   "source": [
    "Tcapture(80,1e4,'r_giant', 1,'TQM','1e4_80_rgiant_TQM')"
   ]
  },
  {
   "cell_type": "code",
   "execution_count": 9,
   "metadata": {},
   "outputs": [
    {
     "name": "stdout",
     "output_type": "stream",
     "text": [
      "condition1 = True condition2 = False condition3 = False\n",
      "final a = 90.08355396519757\n",
      "final i = 8.011262642922786\n",
      "number of passes through disk (n) = 315046\n",
      "grind time = 99631.39220280417 years\n",
      "Processing time = 0.0 [hr]  4.0 [min]  15.928538084030151 [sec]\n"
     ]
    },
    {
     "data": {
      "text/plain": [
       "99631.39220280417"
      ]
     },
     "execution_count": 9,
     "metadata": {},
     "output_type": "execute_result"
    }
   ],
   "source": [
    "Tcapture(90,1e4,'r_giant', 1,'TQM','1e4_90_rgiant_TQM')"
   ]
  },
  {
   "cell_type": "code",
   "execution_count": 10,
   "metadata": {},
   "outputs": [
    {
     "name": "stdout",
     "output_type": "stream",
     "text": [
      "condition1 = False condition2 = True condition3 = False\n",
      "final a = 59.603250639248635\n",
      "final i = 20.575322460883694\n",
      "number of passes through disk (n) = 230094\n",
      "grind time = 87681.37381519633 years\n",
      "Processing time = 0.0 [hr]  3.0 [min]  10.930382013320923 [sec]\n"
     ]
    },
    {
     "data": {
      "text/plain": [
       "87681.37381519633"
      ]
     },
     "execution_count": 10,
     "metadata": {},
     "output_type": "execute_result"
    }
   ],
   "source": [
    "Tcapture(100,1e4,'r_giant', 1,'TQM','1e4_100_rgiant_TQM')"
   ]
  },
  {
   "cell_type": "code",
   "execution_count": 11,
   "metadata": {},
   "outputs": [
    {
     "name": "stdout",
     "output_type": "stream",
     "text": [
      "condition1 = False condition2 = True condition3 = True\n",
      "final a = 59.60318651571242\n",
      "final i = 45.42342590912826\n",
      "number of passes through disk (n) = 125867\n",
      "grind time = 78205.205520923 years\n",
      "Processing time = 0.0 [hr]  1.0 [min]  46.768006801605225 [sec]\n"
     ]
    },
    {
     "data": {
      "text/plain": [
       "78205.205520923"
      ]
     },
     "execution_count": 11,
     "metadata": {},
     "output_type": "execute_result"
    }
   ],
   "source": [
    "Tcapture(120,1e4,'r_giant', 1,'TQM','1e4_120_rgiant_TQM')"
   ]
  },
  {
   "cell_type": "code",
   "execution_count": 12,
   "metadata": {},
   "outputs": [
    {
     "name": "stdout",
     "output_type": "stream",
     "text": [
      "condition1 = False condition2 = True condition3 = True\n",
      "final a = 59.60251297306018\n",
      "final i = 60.31382743543186\n",
      "number of passes through disk (n) = 102179\n",
      "grind time = 60739.38815555563 years\n",
      "Processing time = 0.0 [hr]  1.0 [min]  27.587446928024292 [sec]\n"
     ]
    },
    {
     "data": {
      "text/plain": [
       "60739.38815555563"
      ]
     },
     "execution_count": 12,
     "metadata": {},
     "output_type": "execute_result"
    }
   ],
   "source": [
    "Tcapture(135,1e4,'r_giant', 1,'TQM','1e4_135_rgiant_TQM')"
   ]
  },
  {
   "cell_type": "code",
   "execution_count": 13,
   "metadata": {},
   "outputs": [
    {
     "name": "stdout",
     "output_type": "stream",
     "text": [
      "condition1 = False condition2 = True condition3 = True\n",
      "final a = 59.602965673324974\n",
      "final i = 80.2851029585933\n",
      "number of passes through disk (n) = 81671\n",
      "grind time = 29324.274262958916 years\n",
      "Processing time = 0.0 [hr]  1.0 [min]  9.070597171783447 [sec]\n"
     ]
    },
    {
     "data": {
      "text/plain": [
       "29324.274262958916"
      ]
     },
     "execution_count": 13,
     "metadata": {},
     "output_type": "execute_result"
    }
   ],
   "source": [
    "Tcapture(150,1e4,'r_giant', 1,'TQM','1e4_150_rgiant_TQM')"
   ]
  },
  {
   "cell_type": "code",
   "execution_count": 14,
   "metadata": {},
   "outputs": [
    {
     "name": "stdout",
     "output_type": "stream",
     "text": [
      "condition1 = False condition2 = True condition3 = True\n",
      "final a = 59.60258299975742\n",
      "final i = 127.16204945859101\n",
      "number of passes through disk (n) = 25148\n",
      "grind time = 9011.013226709421 years\n",
      "Processing time = 0.0 [hr]  0.0 [min]  21.31233501434326 [sec]\n"
     ]
    },
    {
     "data": {
      "text/plain": [
       "9011.013226709421"
      ]
     },
     "execution_count": 14,
     "metadata": {},
     "output_type": "execute_result"
    }
   ],
   "source": [
    "Tcapture(165,1e4,'r_giant', 1,'TQM','1e4_165_rgiant_TQM')"
   ]
  },
  {
   "cell_type": "code",
   "execution_count": 15,
   "metadata": {},
   "outputs": [
    {
     "name": "stdout",
     "output_type": "stream",
     "text": [
      "condition1 = False condition2 = True condition3 = True\n",
      "final a = 59.60290331782155\n",
      "final i = 162.5794999243252\n",
      "number of passes through disk (n) = 5395\n",
      "grind time = 2614.1103101031363 years\n",
      "Processing time = 0.0 [hr]  0.0 [min]  4.5050859451293945 [sec]\n"
     ]
    },
    {
     "data": {
      "text/plain": [
       "2614.1103101031363"
      ]
     },
     "execution_count": 15,
     "metadata": {},
     "output_type": "execute_result"
    }
   ],
   "source": [
    "Tcapture(175,1e4,'r_giant', 1,'TQM','1e4_175_rgiant_TQM')"
   ]
  },
  {
   "cell_type": "code",
   "execution_count": null,
   "metadata": {},
   "outputs": [],
   "source": []
  },
  {
   "cell_type": "code",
   "execution_count": null,
   "metadata": {},
   "outputs": [],
   "source": []
  },
  {
   "cell_type": "code",
   "execution_count": 3,
   "metadata": {},
   "outputs": [
    {
     "name": "stdout",
     "output_type": "stream",
     "text": [
      "condition1 = True condition2 = False condition3 = False\n",
      "final a = 2685.607149049939\n",
      "final i = -0.28175651390972395\n",
      "number of passes through disk (n) = 145795\n",
      "grind time = 817133.2315389926 years\n",
      "Processing time = 0.0 [hr]  2.0 [min]  1.765078067779541 [sec]\n"
     ]
    },
    {
     "data": {
      "text/plain": [
       "817133.2315389926"
      ]
     },
     "execution_count": 3,
     "metadata": {},
     "output_type": "execute_result"
    }
   ],
   "source": [
    "Tcapture(-45,1e4,'r_giant', 1,'TQM','1e4_n45_rgiant_TQM')"
   ]
  },
  {
   "cell_type": "code",
   "execution_count": 4,
   "metadata": {},
   "outputs": [
    {
     "name": "stdout",
     "output_type": "stream",
     "text": [
      "condition1 = False condition2 = True condition3 = True\n",
      "final a = 59.60251297306018\n",
      "final i = -60.31382743543186\n",
      "number of passes through disk (n) = 102179\n",
      "grind time = 60739.38815555563 years\n",
      "Processing time = 0.0 [hr]  2.0 [min]  3.007873773574829 [sec]\n"
     ]
    },
    {
     "data": {
      "text/plain": [
       "60739.38815555563"
      ]
     },
     "execution_count": 4,
     "metadata": {},
     "output_type": "execute_result"
    }
   ],
   "source": [
    "Tcapture(-135,1e4,'r_giant', 1,'TQM','1e4_n135_rgiant_TQM')"
   ]
  },
  {
   "cell_type": "code",
   "execution_count": null,
   "metadata": {},
   "outputs": [],
   "source": []
  }
 ],
 "metadata": {
  "kernelspec": {
   "display_name": "Python 3",
   "language": "python",
   "name": "python3"
  },
  "language_info": {
   "codemirror_mode": {
    "name": "ipython",
    "version": 3
   },
   "file_extension": ".py",
   "mimetype": "text/x-python",
   "name": "python",
   "nbconvert_exporter": "python",
   "pygments_lexer": "ipython3",
   "version": "3.8.3"
  }
 },
 "nbformat": 4,
 "nbformat_minor": 4
}
