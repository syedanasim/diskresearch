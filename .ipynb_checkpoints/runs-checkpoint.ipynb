{
 "cells": [
  {
   "cell_type": "code",
   "execution_count": 1,
   "metadata": {},
   "outputs": [],
   "source": [
    "exec(open(\"functions_i_main.py\").read())"
   ]
  },
  {
   "cell_type": "code",
   "execution_count": 2,
   "metadata": {
    "collapsed": true
   },
   "outputs": [
    {
     "ename": "KeyboardInterrupt",
     "evalue": "",
     "output_type": "error",
     "traceback": [
      "\u001b[0;31m---------------------------------------------------------------------------\u001b[0m",
      "\u001b[0;31mKeyboardInterrupt\u001b[0m                         Traceback (most recent call last)",
      "\u001b[0;32m<ipython-input-2-fbfa2ba3b761>\u001b[0m in \u001b[0;36m<module>\u001b[0;34m\u001b[0m\n\u001b[0;32m----> 1\u001b[0;31m \u001b[0mTcapture\u001b[0m\u001b[0;34m(\u001b[0m\u001b[0;36m5\u001b[0m\u001b[0;34m,\u001b[0m\u001b[0;36m1e4\u001b[0m\u001b[0;34m,\u001b[0m\u001b[0;34m'o_star'\u001b[0m\u001b[0;34m,\u001b[0m \u001b[0;36m5000\u001b[0m\u001b[0;34m,\u001b[0m\u001b[0;34m'TQM'\u001b[0m\u001b[0;34m,\u001b[0m\u001b[0;34m'1e4_5_ostar_TQM'\u001b[0m\u001b[0;34m)\u001b[0m\u001b[0;34m\u001b[0m\u001b[0;34m\u001b[0m\u001b[0m\n\u001b[0m",
      "\u001b[0;32m<string>\u001b[0m in \u001b[0;36mTcapture\u001b[0;34m(deg, radius, star, intermediate, disk, name)\u001b[0m\n",
      "\u001b[0;32m<string>\u001b[0m in \u001b[0;36mi_new_STO\u001b[0;34m(i_in, am_in, mstar, rstar, density, hint)\u001b[0m\n",
      "\u001b[0;32m<string>\u001b[0m in \u001b[0;36mvktheta_new_STO\u001b[0;34m(i_in, am_in, rstar, mstar, density, hint)\u001b[0m\n",
      "\u001b[0;32m<string>\u001b[0m in \u001b[0;36mdvtheta_STO\u001b[0;34m(i, am, rstar, mstar, density, hint)\u001b[0m\n",
      "\u001b[0;32m<string>\u001b[0m in \u001b[0;36mFtheta_STO\u001b[0;34m(i, am, rstar, density)\u001b[0m\n",
      "\u001b[0;32m<string>\u001b[0m in \u001b[0;36mdensity_TQM\u001b[0;34m(am)\u001b[0m\n",
      "\u001b[0;32m<string>\u001b[0m in \u001b[0;36msurfacedensityint_TQM\u001b[0;34m(am)\u001b[0m\n",
      "\u001b[0;31mKeyboardInterrupt\u001b[0m: "
     ]
    }
   ],
   "source": [
    "Tcapture(5,1e4,'o_star', 5000,'TQM','1e4_5_ostar_TQM')"
   ]
  },
  {
   "cell_type": "code",
   "execution_count": null,
   "metadata": {},
   "outputs": [],
   "source": [
    "Tcapture(15,1e4,'o_star', 5000,'TQM','1e4_15_ostar_TQM')"
   ]
  },
  {
   "cell_type": "code",
   "execution_count": null,
   "metadata": {},
   "outputs": [],
   "source": [
    "Tcapture(80,1e4,'o_star', 5000,'TQM','1e4_80_ostar_TQM')"
   ]
  },
  {
   "cell_type": "code",
   "execution_count": null,
   "metadata": {},
   "outputs": [],
   "source": [
    "Tcapture(45,1e6,'o_star', 5000,'TQM','1e6_45_ostar_TQM')"
   ]
  },
  {
   "cell_type": "code",
   "execution_count": null,
   "metadata": {},
   "outputs": [],
   "source": []
  }
 ],
 "metadata": {
  "kernelspec": {
   "display_name": "Python 3",
   "language": "python",
   "name": "python3"
  },
  "language_info": {
   "codemirror_mode": {
    "name": "ipython",
    "version": 3
   },
   "file_extension": ".py",
   "mimetype": "text/x-python",
   "name": "python",
   "nbconvert_exporter": "python",
   "pygments_lexer": "ipython3",
   "version": "3.8.3"
  }
 },
 "nbformat": 4,
 "nbformat_minor": 4
}
