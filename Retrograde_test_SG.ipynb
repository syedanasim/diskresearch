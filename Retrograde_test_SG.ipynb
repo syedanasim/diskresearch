{
 "cells": [
  {
   "cell_type": "code",
   "execution_count": 2,
   "metadata": {},
   "outputs": [],
   "source": [
    "exec(open(\"functions_i_main.py\").read())"
   ]
  },
  {
   "cell_type": "code",
   "execution_count": 3,
   "metadata": {},
   "outputs": [
    {
     "name": "stdout",
     "output_type": "stream",
     "text": [
      "condition1 = True condition2 = False condition3 = False\n",
      "final a = 9849.987031324416\n",
      "final i = 0.5631650314944109\n",
      "number of passes through disk (n) = 270\n",
      "grind time = 9423.044943072024 years\n",
      "Processing time = 0.0 [hr]  0.0 [min]  0.34748125076293945 [sec]\n"
     ]
    },
    {
     "data": {
      "text/plain": [
       "9423.044943072024"
      ]
     },
     "execution_count": 3,
     "metadata": {},
     "output_type": "execute_result"
    }
   ],
   "source": [
    "Tcapture(5,1e4,'r_giant', 1,'SG','1e4_5_rgiant_SG')"
   ]
  },
  {
   "cell_type": "code",
   "execution_count": 4,
   "metadata": {},
   "outputs": [
    {
     "name": "stdout",
     "output_type": "stream",
     "text": [
      "condition1 = True condition2 = False condition3 = False\n",
      "final a = 8703.696005913665\n",
      "final i = 0.5247385199730977\n",
      "number of passes through disk (n) = 400\n",
      "grind time = 11940.426124440359 years\n",
      "Processing time = 0.0 [hr]  0.0 [min]  0.4982001781463623 [sec]\n"
     ]
    },
    {
     "data": {
      "text/plain": [
       "11940.426124440359"
      ]
     },
     "execution_count": 4,
     "metadata": {},
     "output_type": "execute_result"
    }
   ],
   "source": [
    "Tcapture(15,1e4,'r_giant', 1,'SG','1e4_15_rgiant_SG')"
   ]
  },
  {
   "cell_type": "code",
   "execution_count": 5,
   "metadata": {},
   "outputs": [
    {
     "name": "stdout",
     "output_type": "stream",
     "text": [
      "condition1 = True condition2 = False condition3 = False\n",
      "final a = 5658.363394253818\n",
      "final i = 0.38624122109085796\n",
      "number of passes through disk (n) = 290\n",
      "grind time = 5312.704331643721 years\n",
      "Processing time = 0.0 [hr]  0.0 [min]  0.3733699321746826 [sec]\n"
     ]
    },
    {
     "data": {
      "text/plain": [
       "5312.704331643721"
      ]
     },
     "execution_count": 5,
     "metadata": {},
     "output_type": "execute_result"
    }
   ],
   "source": [
    "Tcapture(30,1e4,'r_giant', 1,'SG','1e4_30_rgiant_SG')"
   ]
  },
  {
   "cell_type": "code",
   "execution_count": 6,
   "metadata": {},
   "outputs": [
    {
     "name": "stdout",
     "output_type": "stream",
     "text": [
      "condition1 = True condition2 = False condition3 = False\n",
      "final a = 2693.3902478005734\n",
      "final i = 0.26063889339322993\n",
      "number of passes through disk (n) = 168\n",
      "grind time = 1690.9603561165538 years\n",
      "Processing time = 0.0 [hr]  0.0 [min]  0.22290778160095215 [sec]\n"
     ]
    },
    {
     "data": {
      "text/plain": [
       "1690.9603561165538"
      ]
     },
     "execution_count": 6,
     "metadata": {},
     "output_type": "execute_result"
    }
   ],
   "source": [
    "Tcapture(45,1e4,'r_giant', 1,'SG','1e4_45_rgiant_SG')"
   ]
  },
  {
   "cell_type": "code",
   "execution_count": 7,
   "metadata": {},
   "outputs": [
    {
     "name": "stdout",
     "output_type": "stream",
     "text": [
      "condition1 = True condition2 = False condition3 = False\n",
      "final a = 977.6117964334575\n",
      "final i = 0.23314447545320988\n",
      "number of passes through disk (n) = 109\n",
      "grind time = 772.8705797524977 years\n",
      "Processing time = 0.0 [hr]  0.0 [min]  0.1475677490234375 [sec]\n"
     ]
    },
    {
     "data": {
      "text/plain": [
       "772.8705797524977"
      ]
     },
     "execution_count": 7,
     "metadata": {},
     "output_type": "execute_result"
    }
   ],
   "source": [
    "Tcapture(60,1e4,'r_giant', 1,'SG','1e4_60_rgiant_SG')"
   ]
  },
  {
   "cell_type": "code",
   "execution_count": 8,
   "metadata": {},
   "outputs": [
    {
     "name": "stdout",
     "output_type": "stream",
     "text": [
      "condition1 = True condition2 = False condition3 = False\n",
      "final a = 225.31589274701312\n",
      "final i = 1.0269485213364635\n",
      "number of passes through disk (n) = 419\n",
      "grind time = 569.7391241698406 years\n",
      "Processing time = 0.0 [hr]  0.0 [min]  0.5194301605224609 [sec]\n"
     ]
    },
    {
     "data": {
      "text/plain": [
       "569.7391241698406"
      ]
     },
     "execution_count": 8,
     "metadata": {},
     "output_type": "execute_result"
    }
   ],
   "source": [
    "Tcapture(80,1e4,'r_giant', 1,'SG','1e4_80_rgiant_SG')"
   ]
  },
  {
   "cell_type": "code",
   "execution_count": 9,
   "metadata": {},
   "outputs": [
    {
     "name": "stdout",
     "output_type": "stream",
     "text": [
      "condition1 = True condition2 = False condition3 = False\n",
      "final a = 115.12090021401836\n",
      "final i = 1.0341199247275317\n",
      "number of passes through disk (n) = 424\n",
      "grind time = 520.2528594381755 years\n",
      "Processing time = 0.0 [hr]  0.0 [min]  0.5243372917175293 [sec]\n"
     ]
    },
    {
     "data": {
      "text/plain": [
       "520.2528594381755"
      ]
     },
     "execution_count": 9,
     "metadata": {},
     "output_type": "execute_result"
    }
   ],
   "source": [
    "Tcapture(90,1e4,'r_giant', 1,'SG','1e4_90_rgiant_SG')"
   ]
  },
  {
   "cell_type": "code",
   "execution_count": 10,
   "metadata": {},
   "outputs": [
    {
     "name": "stdout",
     "output_type": "stream",
     "text": [
      "condition1 = True condition2 = False condition3 = False\n",
      "final a = 65.13222331293095\n",
      "final i = 1.2117419578176896\n",
      "number of passes through disk (n) = 431\n",
      "grind time = 506.24903249042757 years\n",
      "Processing time = 0.0 [hr]  0.0 [min]  0.515068769454956 [sec]\n"
     ]
    },
    {
     "data": {
      "text/plain": [
       "506.24903249042757"
      ]
     },
     "execution_count": 10,
     "metadata": {},
     "output_type": "execute_result"
    }
   ],
   "source": [
    "Tcapture(100,1e4,'r_giant', 1,'SG','1e4_100_rgiant_SG')"
   ]
  },
  {
   "cell_type": "code",
   "execution_count": 11,
   "metadata": {},
   "outputs": [
    {
     "name": "stdout",
     "output_type": "stream",
     "text": [
      "condition1 = True condition2 = False condition3 = False\n",
      "final a = 24.970700808238753\n",
      "final i = 2.6203114242244134\n",
      "number of passes through disk (n) = 865\n",
      "grind time = 409.2742029341679 years\n",
      "Processing time = 0.0 [hr]  0.0 [min]  1.0319700241088867 [sec]\n"
     ]
    },
    {
     "data": {
      "text/plain": [
       "409.2742029341679"
      ]
     },
     "execution_count": 11,
     "metadata": {},
     "output_type": "execute_result"
    }
   ],
   "source": [
    "Tcapture(120,1e4,'r_giant', 1,'SG','1e4_120_rgiant_SG')"
   ]
  },
  {
   "cell_type": "code",
   "execution_count": 12,
   "metadata": {},
   "outputs": [
    {
     "name": "stdout",
     "output_type": "stream",
     "text": [
      "condition1 = True condition2 = False condition3 = False\n",
      "final a = 9.896308667195038\n",
      "final i = 5.096534855848427\n",
      "number of passes through disk (n) = 1874\n",
      "grind time = 238.7587086834094 years\n",
      "Processing time = 0.0 [hr]  0.0 [min]  2.21541690826416 [sec]\n"
     ]
    },
    {
     "data": {
      "text/plain": [
       "238.7587086834094"
      ]
     },
     "execution_count": 12,
     "metadata": {},
     "output_type": "execute_result"
    }
   ],
   "source": [
    "Tcapture(135,1e4,'r_giant', 1,'SG','1e4_135_rgiant_SG')"
   ]
  },
  {
   "cell_type": "code",
   "execution_count": 13,
   "metadata": {},
   "outputs": [
    {
     "name": "stdout",
     "output_type": "stream",
     "text": [
      "condition1 = False condition2 = True condition3 = False\n",
      "final a = 5.191144470241213\n",
      "final i = 34.02345683548229\n",
      "number of passes through disk (n) = 936\n",
      "grind time = 131.8267619089293 years\n",
      "Processing time = 0.0 [hr]  0.0 [min]  1.1233577728271484 [sec]\n"
     ]
    },
    {
     "data": {
      "text/plain": [
       "131.8267619089293"
      ]
     },
     "execution_count": 13,
     "metadata": {},
     "output_type": "execute_result"
    }
   ],
   "source": [
    "Tcapture(150,1e4,'r_giant', 1,'SG','1e4_150_rgiant_SG')"
   ]
  },
  {
   "cell_type": "code",
   "execution_count": 14,
   "metadata": {},
   "outputs": [
    {
     "name": "stdout",
     "output_type": "stream",
     "text": [
      "condition1 = False condition2 = True condition3 = False\n",
      "final a = 5.190334278280559\n",
      "final i = 58.12455618489457\n",
      "number of passes through disk (n) = 559\n",
      "grind time = 76.19661220041301 years\n",
      "Processing time = 0.0 [hr]  0.0 [min]  0.663114070892334 [sec]\n"
     ]
    },
    {
     "data": {
      "text/plain": [
       "76.19661220041301"
      ]
     },
     "execution_count": 14,
     "metadata": {},
     "output_type": "execute_result"
    }
   ],
   "source": [
    "Tcapture(165,1e4,'r_giant', 1,'SG','1e4_165_rgiant_SG')"
   ]
  },
  {
   "cell_type": "code",
   "execution_count": 15,
   "metadata": {},
   "outputs": [
    {
     "name": "stdout",
     "output_type": "stream",
     "text": [
      "condition1 = False condition2 = True condition3 = False\n",
      "final a = 5.190903977464353\n",
      "final i = 63.37486720364576\n",
      "number of passes through disk (n) = 518\n",
      "grind time = 50.085033276387755 years\n",
      "Processing time = 0.0 [hr]  0.0 [min]  0.6160602569580078 [sec]\n"
     ]
    },
    {
     "data": {
      "text/plain": [
       "50.085033276387755"
      ]
     },
     "execution_count": 15,
     "metadata": {},
     "output_type": "execute_result"
    }
   ],
   "source": [
    "Tcapture(175,1e4,'r_giant', 1,'SG','1e4_175_rgiant_SG')"
   ]
  },
  {
   "cell_type": "code",
   "execution_count": null,
   "metadata": {},
   "outputs": [],
   "source": []
  },
  {
   "cell_type": "code",
   "execution_count": null,
   "metadata": {},
   "outputs": [],
   "source": []
  },
  {
   "cell_type": "code",
   "execution_count": 52,
   "metadata": {},
   "outputs": [
    {
     "name": "stdout",
     "output_type": "stream",
     "text": [
      "condition1 = True condition2 = False condition3 = False\n",
      "final a = 27.08178605203442\n",
      "final i = 2.462587621442485\n",
      "number of passes through disk (n) = 726\n",
      "grind time = 5.005086044771736 years\n",
      "Processing time = 0.0 [hr]  0.0 [min]  0.8938009738922119 [sec]\n"
     ]
    },
    {
     "data": {
      "text/plain": [
       "5.005086044771736"
      ]
     },
     "execution_count": 52,
     "metadata": {},
     "output_type": "execute_result"
    }
   ],
   "source": [
    "Tcapture(45,1e2,'r_giant', 50,'SG','1e2_45_rgiant_SG')"
   ]
  },
  {
   "cell_type": "code",
   "execution_count": 53,
   "metadata": {},
   "outputs": [
    {
     "name": "stdout",
     "output_type": "stream",
     "text": [
      "condition1 = False condition2 = True condition3 = True\n",
      "final a = 5.185455272379271\n",
      "final i = 86.374695694606\n",
      "number of passes through disk (n) = 417\n",
      "grind time = 0.8267971953114776 years\n",
      "Processing time = 0.0 [hr]  0.0 [min]  0.5282299518585205 [sec]\n"
     ]
    },
    {
     "data": {
      "text/plain": [
       "0.8267971953114776"
      ]
     },
     "execution_count": 53,
     "metadata": {},
     "output_type": "execute_result"
    }
   ],
   "source": [
    "Tcapture(135,1e2,'r_giant', 50,'SG','1e2_135_rgiant_SG')"
   ]
  },
  {
   "cell_type": "code",
   "execution_count": 54,
   "metadata": {},
   "outputs": [
    {
     "name": "stdout",
     "output_type": "stream",
     "text": [
      "condition1 = True condition2 = False condition3 = False\n",
      "final a = 115.12090021401836\n",
      "final i = 1.0341199247275317\n",
      "number of passes through disk (n) = 424\n",
      "grind time = 520.2528594381755 years\n",
      "Processing time = 0.0 [hr]  0.0 [min]  0.5367898941040039 [sec]\n"
     ]
    },
    {
     "data": {
      "text/plain": [
       "520.2528594381755"
      ]
     },
     "execution_count": 54,
     "metadata": {},
     "output_type": "execute_result"
    }
   ],
   "source": [
    "Tcapture(90,1e4,'r_giant', 50,'SG','1e4_90_rgiant_SG')"
   ]
  },
  {
   "cell_type": "code",
   "execution_count": 55,
   "metadata": {},
   "outputs": [
    {
     "name": "stdout",
     "output_type": "stream",
     "text": [
      "condition1 = False condition2 = True condition3 = True\n",
      "final a = 5.190119062062859\n",
      "final i = 50.744917396984285\n",
      "number of passes through disk (n) = 589\n",
      "grind time = 1.3053800495321002 years\n",
      "Processing time = 0.0 [hr]  0.0 [min]  0.739246129989624 [sec]\n"
     ]
    },
    {
     "data": {
      "text/plain": [
       "1.3053800495321002"
      ]
     },
     "execution_count": 55,
     "metadata": {},
     "output_type": "execute_result"
    }
   ],
   "source": [
    "Tcapture(89,1e2,'r_giant', 50,'SG','1e2_89_rgiant_SG')"
   ]
  },
  {
   "cell_type": "code",
   "execution_count": 56,
   "metadata": {},
   "outputs": [
    {
     "name": "stdout",
     "output_type": "stream",
     "text": [
      "condition1 = False condition2 = True condition3 = True\n",
      "final a = 5.189875629443269\n",
      "final i = 52.74092990695339\n",
      "number of passes through disk (n) = 568\n",
      "grind time = 1.280894482232913 years\n",
      "Processing time = 0.0 [hr]  0.0 [min]  0.7139589786529541 [sec]\n"
     ]
    },
    {
     "data": {
      "text/plain": [
       "1.280894482232913"
      ]
     },
     "execution_count": 56,
     "metadata": {},
     "output_type": "execute_result"
    }
   ],
   "source": [
    "Tcapture(91,1e2,'r_giant', 50,'SG','1e2_91_rgiant_SG')"
   ]
  },
  {
   "cell_type": "code",
   "execution_count": null,
   "metadata": {},
   "outputs": [],
   "source": []
  },
  {
   "cell_type": "code",
   "execution_count": 57,
   "metadata": {},
   "outputs": [
    {
     "name": "stdout",
     "output_type": "stream",
     "text": [
      "condition1 = True condition2 = False condition3 = False\n",
      "final a = 65.13222331293095\n",
      "final i = 1.2117419578176896\n",
      "number of passes through disk (n) = 431\n",
      "grind time = 506.24903249042757 years\n",
      "Processing time = 0.0 [hr]  0.0 [min]  0.5516588687896729 [sec]\n"
     ]
    },
    {
     "data": {
      "text/plain": [
       "506.24903249042757"
      ]
     },
     "execution_count": 57,
     "metadata": {},
     "output_type": "execute_result"
    }
   ],
   "source": [
    "Tcapture(100,1e4,'r_giant', 50,'SG','1e4_100_rgiant_SG')"
   ]
  },
  {
   "cell_type": "code",
   "execution_count": 58,
   "metadata": {},
   "outputs": [
    {
     "name": "stdout",
     "output_type": "stream",
     "text": [
      "condition1 = True condition2 = False condition3 = False\n",
      "final a = 24.970700808238753\n",
      "final i = 2.6203114242244134\n",
      "number of passes through disk (n) = 865\n",
      "grind time = 409.2742029341679 years\n",
      "Processing time = 0.0 [hr]  0.0 [min]  1.0477707386016846 [sec]\n"
     ]
    },
    {
     "data": {
      "text/plain": [
       "409.2742029341679"
      ]
     },
     "execution_count": 58,
     "metadata": {},
     "output_type": "execute_result"
    }
   ],
   "source": [
    "Tcapture(120,1e4,'r_giant', 50,'SG','1e4_120_rgiant_SG')"
   ]
  },
  {
   "cell_type": "code",
   "execution_count": 59,
   "metadata": {},
   "outputs": [
    {
     "name": "stdout",
     "output_type": "stream",
     "text": [
      "condition1 = True condition2 = False condition3 = False\n",
      "final a = 9.896308667195038\n",
      "final i = 5.096534855848427\n",
      "number of passes through disk (n) = 1874\n",
      "grind time = 238.7587086834094 years\n",
      "Processing time = 0.0 [hr]  0.0 [min]  2.2914161682128906 [sec]\n"
     ]
    },
    {
     "data": {
      "text/plain": [
       "238.7587086834094"
      ]
     },
     "execution_count": 59,
     "metadata": {},
     "output_type": "execute_result"
    }
   ],
   "source": [
    "Tcapture(135,1e4,'r_giant', 50,'SG','1e4_135_rgiant_SG')"
   ]
  },
  {
   "cell_type": "code",
   "execution_count": null,
   "metadata": {},
   "outputs": [],
   "source": []
  },
  {
   "cell_type": "code",
   "execution_count": null,
   "metadata": {},
   "outputs": [],
   "source": []
  },
  {
   "cell_type": "code",
   "execution_count": null,
   "metadata": {},
   "outputs": [],
   "source": []
  },
  {
   "cell_type": "code",
   "execution_count": 60,
   "metadata": {
    "scrolled": true
   },
   "outputs": [
    {
     "name": "stdout",
     "output_type": "stream",
     "text": [
      "condition1 = True condition2 = False condition3 = False\n",
      "final a = 9.896308667195038\n",
      "final i = 5.096534855848427\n",
      "number of passes through disk (n) = 1874\n",
      "grind time = 238.7587086834094 years\n",
      "Processing time = 0.0 [hr]  0.0 [min]  2.2625088691711426 [sec]\n"
     ]
    },
    {
     "data": {
      "text/plain": [
       "238.7587086834094"
      ]
     },
     "execution_count": 60,
     "metadata": {},
     "output_type": "execute_result"
    }
   ],
   "source": [
    "Tcapture(135,1e4,'r_giant', 1,'SG','1e4_135_rgiant_SG') #more data"
   ]
  },
  {
   "cell_type": "code",
   "execution_count": 61,
   "metadata": {},
   "outputs": [
    {
     "name": "stdout",
     "output_type": "stream",
     "text": [
      "condition1 = True condition2 = False condition3 = False\n",
      "final a = 9.896308667195038\n",
      "final i = -5.096534855848427\n",
      "number of passes through disk (n) = 1874\n",
      "grind time = 238.75870868340934 years\n",
      "Processing time = 0.0 [hr]  0.0 [min]  2.3134260177612305 [sec]\n"
     ]
    },
    {
     "data": {
      "text/plain": [
       "238.75870868340934"
      ]
     },
     "execution_count": 61,
     "metadata": {},
     "output_type": "execute_result"
    }
   ],
   "source": [
    "Tcapture(-135,1e4,'r_giant', 1,'SG','1e4_n135_rgiant_SG') #more data"
   ]
  },
  {
   "cell_type": "code",
   "execution_count": null,
   "metadata": {},
   "outputs": [],
   "source": []
  },
  {
   "cell_type": "code",
   "execution_count": 62,
   "metadata": {},
   "outputs": [
    {
     "name": "stdout",
     "output_type": "stream",
     "text": [
      "condition1 = True condition2 = False condition3 = False\n",
      "final a = 10.19272504946187\n",
      "final i = 5.009597917539909\n",
      "number of passes through disk (n) = 1831\n",
      "grind time = 242.47073036609927 years\n",
      "Processing time = 0.0 [hr]  0.0 [min]  2.219491958618164 [sec]\n"
     ]
    },
    {
     "data": {
      "text/plain": [
       "242.47073036609927"
      ]
     },
     "execution_count": 62,
     "metadata": {},
     "output_type": "execute_result"
    }
   ],
   "source": [
    "Tcapture(-225,1e4,'r_giant', 1,'SG','1e4_n225_rgiant_SG') #more data"
   ]
  },
  {
   "cell_type": "code",
   "execution_count": 63,
   "metadata": {},
   "outputs": [
    {
     "name": "stdout",
     "output_type": "stream",
     "text": [
      "condition1 = True condition2 = False condition3 = False\n",
      "final a = 10.19272504946187\n",
      "final i = -5.009597917539909\n",
      "number of passes through disk (n) = 1831\n",
      "grind time = 242.47073036609927 years\n",
      "Processing time = 0.0 [hr]  0.0 [min]  2.2612271308898926 [sec]\n"
     ]
    },
    {
     "data": {
      "text/plain": [
       "242.47073036609927"
      ]
     },
     "execution_count": 63,
     "metadata": {},
     "output_type": "execute_result"
    }
   ],
   "source": [
    "Tcapture(225,1e4,'r_giant', 1,'SG','1e4_225_rgiant_SG') #more data"
   ]
  },
  {
   "cell_type": "code",
   "execution_count": null,
   "metadata": {},
   "outputs": [],
   "source": []
  },
  {
   "cell_type": "code",
   "execution_count": 64,
   "metadata": {
    "scrolled": true
   },
   "outputs": [
    {
     "name": "stdout",
     "output_type": "stream",
     "text": [
      "condition1 = True condition2 = False condition3 = False\n",
      "final a = 2693.3902478005734\n",
      "final i = -0.26063889339322993\n",
      "number of passes through disk (n) = 168\n",
      "grind time = 1690.9603561165538 years\n",
      "Processing time = 0.0 [hr]  0.0 [min]  0.22242403030395508 [sec]\n"
     ]
    },
    {
     "data": {
      "text/plain": [
       "1690.9603561165538"
      ]
     },
     "execution_count": 64,
     "metadata": {},
     "output_type": "execute_result"
    }
   ],
   "source": [
    "Tcapture(-45,1e4,'r_giant', 1,'SG','1e4_n45_rgiant_SG') #more data"
   ]
  },
  {
   "cell_type": "code",
   "execution_count": 65,
   "metadata": {},
   "outputs": [
    {
     "name": "stdout",
     "output_type": "stream",
     "text": [
      "condition1 = True condition2 = False condition3 = False\n",
      "final a = 2693.3902478005734\n",
      "final i = 0.26063889339322993\n",
      "number of passes through disk (n) = 168\n",
      "grind time = 1690.9603561165538 years\n",
      "Processing time = 0.0 [hr]  0.0 [min]  0.22250103950500488 [sec]\n"
     ]
    },
    {
     "data": {
      "text/plain": [
       "1690.9603561165538"
      ]
     },
     "execution_count": 65,
     "metadata": {},
     "output_type": "execute_result"
    }
   ],
   "source": [
    "Tcapture(45,1e4,'r_giant', 1,'SG','1e4_45_rgiant_SG') #more data"
   ]
  },
  {
   "cell_type": "code",
   "execution_count": 66,
   "metadata": {},
   "outputs": [],
   "source": [
    "exec(open(\"functions_i_main.py\").read())"
   ]
  },
  {
   "cell_type": "code",
   "execution_count": 67,
   "metadata": {},
   "outputs": [
    {
     "name": "stdout",
     "output_type": "stream",
     "text": [
      "condition1 = True condition2 = False condition3 = False\n",
      "final a = 27.08178605203442\n",
      "final i = 2.462587621442485\n",
      "number of passes through disk (n) = 726\n",
      "grind time = 5.005086044771736 years\n",
      "Processing time = 0.0 [hr]  0.0 [min]  0.9166510105133057 [sec]\n"
     ]
    },
    {
     "data": {
      "text/plain": [
       "5.005086044771736"
      ]
     },
     "execution_count": 67,
     "metadata": {},
     "output_type": "execute_result"
    }
   ],
   "source": [
    "Tcapture(45,1e2,'r_giant', 1,'SG','1e2_45_rgiant_SG')"
   ]
  },
  {
   "cell_type": "code",
   "execution_count": 68,
   "metadata": {},
   "outputs": [
    {
     "name": "stdout",
     "output_type": "stream",
     "text": [
      "condition1 = True condition2 = False condition3 = False\n",
      "final a = 27.08178605203442\n",
      "final i = -2.462587621442485\n",
      "number of passes through disk (n) = 726\n",
      "grind time = 5.005086044771736 years\n",
      "Processing time = 0.0 [hr]  0.0 [min]  0.9375426769256592 [sec]\n"
     ]
    },
    {
     "data": {
      "text/plain": [
       "5.005086044771736"
      ]
     },
     "execution_count": 68,
     "metadata": {},
     "output_type": "execute_result"
    }
   ],
   "source": [
    "Tcapture(-45,1e2,'r_giant', 1,'SG','1e2_n45_rgiant_SG')"
   ]
  },
  {
   "cell_type": "code",
   "execution_count": null,
   "metadata": {},
   "outputs": [],
   "source": []
  },
  {
   "cell_type": "code",
   "execution_count": 69,
   "metadata": {},
   "outputs": [
    {
     "name": "stdout",
     "output_type": "stream",
     "text": [
      "condition1 = False condition2 = True condition3 = False\n",
      "final a = 5.191144470241213\n",
      "final i = 34.02345683548229\n",
      "number of passes through disk (n) = 936\n",
      "grind time = 131.8267619089293 years\n",
      "Processing time = 0.0 [hr]  0.0 [min]  1.1592738628387451 [sec]\n"
     ]
    },
    {
     "data": {
      "text/plain": [
       "131.8267619089293"
      ]
     },
     "execution_count": 69,
     "metadata": {},
     "output_type": "execute_result"
    }
   ],
   "source": [
    "Tcapture(150,1e4,'r_giant', 50,'SG','1e4_150_rgiant_SG')"
   ]
  },
  {
   "cell_type": "code",
   "execution_count": 70,
   "metadata": {},
   "outputs": [
    {
     "name": "stdout",
     "output_type": "stream",
     "text": [
      "condition1 = False condition2 = True condition3 = False\n",
      "final a = 5.190334278280559\n",
      "final i = 58.12455618489457\n",
      "number of passes through disk (n) = 559\n",
      "grind time = 76.19661220041301 years\n",
      "Processing time = 0.0 [hr]  0.0 [min]  0.6939001083374023 [sec]\n"
     ]
    },
    {
     "data": {
      "text/plain": [
       "76.19661220041301"
      ]
     },
     "execution_count": 70,
     "metadata": {},
     "output_type": "execute_result"
    }
   ],
   "source": [
    "Tcapture(165,1e4,'r_giant', 50,'SG','1e4_165_rgiant_SG')"
   ]
  },
  {
   "cell_type": "code",
   "execution_count": 71,
   "metadata": {},
   "outputs": [
    {
     "name": "stdout",
     "output_type": "stream",
     "text": [
      "condition1 = False condition2 = True condition3 = False\n",
      "final a = 5.190903977464353\n",
      "final i = 63.37486720364576\n",
      "number of passes through disk (n) = 518\n",
      "grind time = 50.085033276387755 years\n",
      "Processing time = 0.0 [hr]  0.0 [min]  0.6422519683837891 [sec]\n"
     ]
    },
    {
     "data": {
      "text/plain": [
       "50.085033276387755"
      ]
     },
     "execution_count": 71,
     "metadata": {},
     "output_type": "execute_result"
    }
   ],
   "source": [
    "Tcapture(175,1e4,'r_giant', 50,'SG','1e4_175_rgiant_SG')"
   ]
  },
  {
   "cell_type": "code",
   "execution_count": null,
   "metadata": {},
   "outputs": [],
   "source": []
  },
  {
   "cell_type": "code",
   "execution_count": null,
   "metadata": {},
   "outputs": [],
   "source": []
  },
  {
   "cell_type": "code",
   "execution_count": null,
   "metadata": {},
   "outputs": [],
   "source": []
  },
  {
   "cell_type": "code",
   "execution_count": null,
   "metadata": {},
   "outputs": [],
   "source": []
  },
  {
   "cell_type": "code",
   "execution_count": null,
   "metadata": {},
   "outputs": [],
   "source": []
  },
  {
   "cell_type": "code",
   "execution_count": null,
   "metadata": {},
   "outputs": [],
   "source": []
  },
  {
   "cell_type": "code",
   "execution_count": null,
   "metadata": {},
   "outputs": [],
   "source": []
  },
  {
   "cell_type": "code",
   "execution_count": null,
   "metadata": {},
   "outputs": [],
   "source": []
  },
  {
   "cell_type": "code",
   "execution_count": 26,
   "metadata": {},
   "outputs": [
    {
     "name": "stdout",
     "output_type": "stream",
     "text": [
      "condition1 = True condition2 = False condition3 = False\n",
      "final a = 2685.09470179387\n",
      "final i = -0.2644878241769501\n",
      "number of passes through disk (n) = 249606\n",
      "grind time = 2467301.0812041573 years\n",
      "Processing time = 0.0 [hr]  5.0 [min]  10.289809942245483 [sec]\n"
     ]
    },
    {
     "data": {
      "text/plain": [
       "2467301.0812041573"
      ]
     },
     "execution_count": 26,
     "metadata": {},
     "output_type": "execute_result"
    }
   ],
   "source": [
    "Tcapture(-45,1e4,'o_star', 10,'SG','1e4_n45_ostar_SG') #more data"
   ]
  },
  {
   "cell_type": "code",
   "execution_count": 27,
   "metadata": {},
   "outputs": [
    {
     "name": "stdout",
     "output_type": "stream",
     "text": [
      "condition1 = True condition2 = False condition3 = False\n",
      "final a = 2685.0902243188\n",
      "final i = -0.2644886661419486\n",
      "number of passes through disk (n) = 1123229\n",
      "grind time = 11102766.165501995 years\n",
      "Processing time = 0.0 [hr]  22.0 [min]  18.82197618484497 [sec]\n"
     ]
    },
    {
     "data": {
      "text/plain": [
       "11102766.165501995"
      ]
     },
     "execution_count": 27,
     "metadata": {},
     "output_type": "execute_result"
    }
   ],
   "source": [
    "Tcapture(-45,1e4,'g_star', 10,'SG','1e4_n45_gstar_SG') #more data"
   ]
  },
  {
   "cell_type": "code",
   "execution_count": 28,
   "metadata": {},
   "outputs": [
    {
     "name": "stdout",
     "output_type": "stream",
     "text": [
      "condition1 = True condition2 = False condition3 = False\n",
      "final a = 2685.0893549766506\n",
      "final i = -0.2644895163544774\n",
      "number of passes through disk (n) = 3510091\n",
      "grind time = 34696086.26608729 years\n",
      "Processing time = 1.0 [hr]  11.0 [min]  31.0122709274292 [sec]\n"
     ]
    },
    {
     "data": {
      "text/plain": [
       "34696086.26608729"
      ]
     },
     "execution_count": 28,
     "metadata": {},
     "output_type": "execute_result"
    }
   ],
   "source": [
    "Tcapture(-45,1e4,'m_star', 10,'SG','1e4_n45_mstar_SG') #more data"
   ]
  },
  {
   "cell_type": "code",
   "execution_count": null,
   "metadata": {},
   "outputs": [],
   "source": []
  }
 ],
 "metadata": {
  "kernelspec": {
   "display_name": "Python 3",
   "language": "python",
   "name": "python3"
  },
  "language_info": {
   "codemirror_mode": {
    "name": "ipython",
    "version": 3
   },
   "file_extension": ".py",
   "mimetype": "text/x-python",
   "name": "python",
   "nbconvert_exporter": "python",
   "pygments_lexer": "ipython3",
   "version": "3.8.3"
  }
 },
 "nbformat": 4,
 "nbformat_minor": 4
}
